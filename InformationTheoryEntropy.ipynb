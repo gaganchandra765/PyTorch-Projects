{
 "cells": [
  {
   "cell_type": "code",
   "execution_count": 1,
   "id": "ebd5276d-437d-444a-ba85-160eb7381f4e",
   "metadata": {},
   "outputs": [
    {
     "name": "stderr",
     "output_type": "stream",
     "text": [
      "[ WARN:0@0.425] global loadsave.cpp:268 findDecoder imread_('your_image.png'): can't open/read file: check file path/integrity\n"
     ]
    },
    {
     "ename": "error",
     "evalue": "OpenCV(4.11.0) /io/opencv/modules/imgproc/src/color.cpp:199: error: (-215:Assertion failed) !_src.empty() in function 'cvtColor'\n",
     "output_type": "error",
     "traceback": [
      "\u001b[0;31m---------------------------------------------------------------------------\u001b[0m",
      "\u001b[0;31merror\u001b[0m                                     Traceback (most recent call last)",
      "Cell \u001b[0;32mIn[1], line 29\u001b[0m\n\u001b[1;32m     27\u001b[0m \u001b[38;5;66;03m# Load an image (make sure it’s 8-bit grayscale or RGB)\u001b[39;00m\n\u001b[1;32m     28\u001b[0m image \u001b[38;5;241m=\u001b[39m cv2\u001b[38;5;241m.\u001b[39mimread(\u001b[38;5;124m'\u001b[39m\u001b[38;5;124myour_image.png\u001b[39m\u001b[38;5;124m'\u001b[39m)  \u001b[38;5;66;03m# or 'your_image.jpg'\u001b[39;00m\n\u001b[0;32m---> 29\u001b[0m image \u001b[38;5;241m=\u001b[39m cv2\u001b[38;5;241m.\u001b[39mcvtColor(image, cv2\u001b[38;5;241m.\u001b[39mCOLOR_BGR2RGB)  \u001b[38;5;66;03m# Convert to RGB for plotting\u001b[39;00m\n\u001b[1;32m     31\u001b[0m \u001b[38;5;66;03m# Optional: resize for faster processing\u001b[39;00m\n\u001b[1;32m     32\u001b[0m image \u001b[38;5;241m=\u001b[39m cv2\u001b[38;5;241m.\u001b[39mresize(image, (\u001b[38;5;241m256\u001b[39m, \u001b[38;5;241m256\u001b[39m))\n",
      "\u001b[0;31merror\u001b[0m: OpenCV(4.11.0) /io/opencv/modules/imgproc/src/color.cpp:199: error: (-215:Assertion failed) !_src.empty() in function 'cvtColor'\n"
     ]
    }
   ],
   "source": [
    "import cv2\n",
    "import numpy as np\n",
    "import matplotlib.pyplot as plt\n",
    "\n",
    "def apply_bsc_to_image(image, flip_probability):\n",
    "    \"\"\"\n",
    "    Applies Binary Symmetric Channel (BSC) noise to a grayscale or RGB image.\n",
    "    Each bit of each pixel is flipped with probability `flip_probability`.\n",
    "    \"\"\"\n",
    "    # Convert image to 8-bit binary representation\n",
    "    flat_image = image.flatten()\n",
    "    binary = np.unpackbits(flat_image)\n",
    "\n",
    "    # Generate random flip mask (1 = flip, 0 = keep)\n",
    "    flips = np.random.rand(binary.size) < flip_probability\n",
    "\n",
    "    # Flip the bits\n",
    "    noisy_binary = np.bitwise_xor(binary, flips.astype(np.uint8))\n",
    "\n",
    "    # Repack bits into 8-bit integers\n",
    "    noisy_image_flat = np.packbits(noisy_binary)\n",
    "\n",
    "    # Reshape to original shape\n",
    "    noisy_image = noisy_image_flat.reshape(image.shape)\n",
    "    return noisy_image\n",
    "\n",
    "# Load an image (make sure it’s 8-bit grayscale or RGB)\n",
    "image = cv2.imread('your_image.png')  # or 'your_image.jpg'\n",
    "image = cv2.cvtColor(image, cv2.COLOR_BGR2RGB)  # Convert to RGB for plotting\n",
    "\n",
    "# Optional: resize for faster processing\n",
    "image = cv2.resize(image, (256, 256))\n",
    "\n",
    "# Apply BSC noise with a flip probability (e.g., 0.01 for 1%)\n",
    "flip_probability = 0.01\n",
    "noisy_image = apply_bsc_to_image(image, flip_probability)\n",
    "\n",
    "# Plotting\n",
    "plt.figure(figsize=(10, 5))\n",
    "plt.subplot(1, 2, 1)\n",
    "plt.imshow(image)\n",
    "plt.title(\"Original Image\")\n",
    "plt.axis('off')\n",
    "\n",
    "plt.subplot(1, 2, 2)\n",
    "plt.imshow(noisy_image)\n",
    "plt.title(f\"BSC Noisy Image (p = {flip_probability})\")\n",
    "plt.axis('off')\n",
    "\n",
    "plt.show()\n"
   ]
  },
  {
   "cell_type": "code",
   "execution_count": null,
   "id": "166a238b-557a-47ef-96d1-192cd0332f2e",
   "metadata": {},
   "outputs": [],
   "source": []
  }
 ],
 "metadata": {
  "kernelspec": {
   "display_name": "Python 3 (ipykernel)",
   "language": "python",
   "name": "python3"
  },
  "language_info": {
   "codemirror_mode": {
    "name": "ipython",
    "version": 3
   },
   "file_extension": ".py",
   "mimetype": "text/x-python",
   "name": "python",
   "nbconvert_exporter": "python",
   "pygments_lexer": "ipython3",
   "version": "3.12.7"
  }
 },
 "nbformat": 4,
 "nbformat_minor": 5
}
