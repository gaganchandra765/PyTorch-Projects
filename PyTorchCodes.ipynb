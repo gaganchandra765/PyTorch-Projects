{
 "cells": [
  {
   "cell_type": "code",
   "execution_count": 193,
   "id": "9ddad149-7825-47a1-81a3-41b3610a38d2",
   "metadata": {},
   "outputs": [
    {
     "name": "stdout",
     "output_type": "stream",
     "text": [
      "PyTorch for Deep Learning\n"
     ]
    }
   ],
   "source": [
    "print(\"PyTorch for Deep Learning\")"
   ]
  },
  {
   "cell_type": "markdown",
   "id": "a48d377c-0015-4810-8e3a-deb501bcd9e6",
   "metadata": {},
   "source": [
    "!nvidia-smi"
   ]
  },
  {
   "cell_type": "code",
   "execution_count": 195,
   "id": "430bb813-2c0d-4817-b173-1771de2e056f",
   "metadata": {},
   "outputs": [
    {
     "name": "stdout",
     "output_type": "stream",
     "text": [
      "2.7.0+cu126\n"
     ]
    }
   ],
   "source": [
    "import numpy as np\n",
    "import matplotlib.pyplot as plt\n",
    "import pandas as pd\n",
    "import torch\n",
    "print(torch.__version__)"
   ]
  },
  {
   "cell_type": "markdown",
   "id": "4ffe3d3c-f66e-43d3-84ec-625ec4ebe1a0",
   "metadata": {
    "jp-MarkdownHeadingCollapsed": true
   },
   "source": [
    "# Introduction to tensors"
   ]
  },
  {
   "cell_type": "markdown",
   "id": "3c4e35cb-041f-40f6-90f5-a321c683fda9",
   "metadata": {},
   "source": [
    "## Creating Tensors\n",
    "\n",
    "Created using torch.tensor()"
   ]
  },
  {
   "cell_type": "code",
   "execution_count": 196,
   "id": "51a99ea0-605f-46ed-b430-8de9b0b086f8",
   "metadata": {},
   "outputs": [],
   "source": [
    "# scalar \n",
    "scalar = torch.tensor(7)"
   ]
  },
  {
   "cell_type": "code",
   "execution_count": 197,
   "id": "6bfa5be0-1269-4889-b776-67cdbab2da49",
   "metadata": {},
   "outputs": [
    {
     "data": {
      "text/plain": [
       "tensor(7)"
      ]
     },
     "execution_count": 197,
     "metadata": {},
     "output_type": "execute_result"
    }
   ],
   "source": [
    "scalar"
   ]
  },
  {
   "cell_type": "code",
   "execution_count": 198,
   "id": "07b4538d-c81f-43e4-bf6c-c9d883f59f4a",
   "metadata": {},
   "outputs": [
    {
     "data": {
      "text/plain": [
       "0"
      ]
     },
     "execution_count": 198,
     "metadata": {},
     "output_type": "execute_result"
    }
   ],
   "source": [
    "scalar.ndim"
   ]
  },
  {
   "cell_type": "code",
   "execution_count": 199,
   "id": "32d675ae-d6ef-45bb-9c1e-53d865e78eeb",
   "metadata": {},
   "outputs": [
    {
     "data": {
      "text/plain": [
       "7"
      ]
     },
     "execution_count": 199,
     "metadata": {},
     "output_type": "execute_result"
    }
   ],
   "source": [
    "scalar.item()"
   ]
  },
  {
   "cell_type": "code",
   "execution_count": 200,
   "id": "2ba484c1-2161-41d8-a1cf-84324ae1b655",
   "metadata": {},
   "outputs": [
    {
     "data": {
      "text/plain": [
       "tensor([7, 3])"
      ]
     },
     "execution_count": 200,
     "metadata": {},
     "output_type": "execute_result"
    }
   ],
   "source": [
    "vector = torch.tensor([7,3])\n",
    "vector"
   ]
  },
  {
   "cell_type": "code",
   "execution_count": 201,
   "id": "4cad8b01-c688-4b4d-b8ab-2b3bfae55085",
   "metadata": {},
   "outputs": [
    {
     "data": {
      "text/plain": [
       "1"
      ]
     },
     "execution_count": 201,
     "metadata": {},
     "output_type": "execute_result"
    }
   ],
   "source": [
    "vector.ndim"
   ]
  },
  {
   "cell_type": "code",
   "execution_count": 202,
   "id": "a218dd73-f7ca-4422-90bb-5d5dff54ed2d",
   "metadata": {},
   "outputs": [
    {
     "data": {
      "text/plain": [
       "torch.Size([2])"
      ]
     },
     "execution_count": 202,
     "metadata": {},
     "output_type": "execute_result"
    }
   ],
   "source": [
    "vector.shape"
   ]
  },
  {
   "cell_type": "code",
   "execution_count": 203,
   "id": "28605549-c48d-43bb-bd84-fbb4b26b5be1",
   "metadata": {},
   "outputs": [
    {
     "data": {
      "text/plain": [
       "torch.Size([3])"
      ]
     },
     "execution_count": 203,
     "metadata": {},
     "output_type": "execute_result"
    }
   ],
   "source": [
    "vector2 = torch.tensor([2,1,3])\n",
    "vector2.shape"
   ]
  },
  {
   "cell_type": "code",
   "execution_count": 204,
   "id": "b1b8234c-d796-463f-9072-6c4ad6c5ab64",
   "metadata": {},
   "outputs": [
    {
     "data": {
      "text/plain": [
       "1"
      ]
     },
     "execution_count": 204,
     "metadata": {},
     "output_type": "execute_result"
    }
   ],
   "source": [
    "vector2.ndim"
   ]
  },
  {
   "cell_type": "code",
   "execution_count": 205,
   "id": "442d7184-a7c1-4166-9f41-fe6a06674273",
   "metadata": {},
   "outputs": [
    {
     "data": {
      "text/plain": [
       "tensor([2, 1, 3])"
      ]
     },
     "execution_count": 205,
     "metadata": {},
     "output_type": "execute_result"
    }
   ],
   "source": [
    "vector2"
   ]
  },
  {
   "cell_type": "code",
   "execution_count": 206,
   "id": "f6bda732-487d-4cf4-b6ec-ff37adcd55a9",
   "metadata": {},
   "outputs": [
    {
     "data": {
      "text/plain": [
       "torch.Size([2, 3])"
      ]
     },
     "execution_count": 206,
     "metadata": {},
     "output_type": "execute_result"
    }
   ],
   "source": [
    "matrix1 = torch.tensor([[1,2,3],\n",
    "                       [2,1,2]])\n",
    "matrix1.shape"
   ]
  },
  {
   "cell_type": "code",
   "execution_count": 207,
   "id": "74872599-3c12-4588-ad2a-ad95e8c91e4c",
   "metadata": {},
   "outputs": [
    {
     "data": {
      "text/plain": [
       "2"
      ]
     },
     "execution_count": 207,
     "metadata": {},
     "output_type": "execute_result"
    }
   ],
   "source": [
    "matrix1.ndim"
   ]
  },
  {
   "cell_type": "code",
   "execution_count": 208,
   "id": "dd919bff-636c-4220-b1aa-8d6962807313",
   "metadata": {},
   "outputs": [
    {
     "data": {
      "text/plain": [
       "tensor([2, 1, 2])"
      ]
     },
     "execution_count": 208,
     "metadata": {},
     "output_type": "execute_result"
    }
   ],
   "source": [
    "matrix1[1]"
   ]
  },
  {
   "cell_type": "code",
   "execution_count": 209,
   "id": "b7985896-e8c6-49f5-86a2-317454856f11",
   "metadata": {},
   "outputs": [
    {
     "data": {
      "text/plain": [
       "torch.Size([3])"
      ]
     },
     "execution_count": 209,
     "metadata": {},
     "output_type": "execute_result"
    }
   ],
   "source": [
    "matrix1[-1].shape"
   ]
  },
  {
   "cell_type": "code",
   "execution_count": 210,
   "id": "985f1375-14bd-4aed-b4db-ad093ed5865d",
   "metadata": {},
   "outputs": [
    {
     "data": {
      "text/plain": [
       "tensor(3)"
      ]
     },
     "execution_count": 210,
     "metadata": {},
     "output_type": "execute_result"
    }
   ],
   "source": [
    "vector2[2]"
   ]
  },
  {
   "cell_type": "code",
   "execution_count": 211,
   "id": "248ecfe7-0f8f-43a9-9c22-c21560c48927",
   "metadata": {},
   "outputs": [],
   "source": [
    "ten = torch.tensor([[[[1,2,3],\n",
    "                   [3,4,5],\n",
    "                   [3,0,6],\n",
    "                    [1,2,6]]]])"
   ]
  },
  {
   "cell_type": "code",
   "execution_count": 212,
   "id": "7be7b230-aae2-4ad8-9d54-1dfbc9a9c111",
   "metadata": {},
   "outputs": [
    {
     "data": {
      "text/plain": [
       "4"
      ]
     },
     "execution_count": 212,
     "metadata": {},
     "output_type": "execute_result"
    }
   ],
   "source": [
    "ten.ndim"
   ]
  },
  {
   "cell_type": "code",
   "execution_count": 213,
   "id": "61a07608-59ce-4e1a-a9f4-f43fa7444904",
   "metadata": {},
   "outputs": [
    {
     "data": {
      "text/plain": [
       "torch.Size([1, 1, 4, 3])"
      ]
     },
     "execution_count": 213,
     "metadata": {},
     "output_type": "execute_result"
    }
   ],
   "source": [
    "ten.shape"
   ]
  },
  {
   "cell_type": "code",
   "execution_count": 214,
   "id": "5ab7ce7c-32f0-4e7b-a4e5-34be55b18363",
   "metadata": {},
   "outputs": [
    {
     "data": {
      "text/plain": [
       "tensor([3, 0, 6])"
      ]
     },
     "execution_count": 214,
     "metadata": {},
     "output_type": "execute_result"
    }
   ],
   "source": [
    "ten[0,0,2]"
   ]
  },
  {
   "cell_type": "markdown",
   "id": "c08a74ef-d155-43b2-8e56-db45d50c8605",
   "metadata": {},
   "source": [
    "Tensors are a bit tough to wrap your mind around "
   ]
  },
  {
   "cell_type": "markdown",
   "id": "58988c24-db53-4f4d-92a1-0f18aa3749d3",
   "metadata": {},
   "source": [
    "## Random Tensors"
   ]
  },
  {
   "cell_type": "code",
   "execution_count": 215,
   "id": "5119906e-4f08-4dca-a62e-08792acdc219",
   "metadata": {},
   "outputs": [
    {
     "data": {
      "text/plain": [
       "tensor([[0.0125, 0.2581, 0.3474, 0.7721],\n",
       "        [0.8703, 0.1565, 0.1053, 0.5446],\n",
       "        [0.0012, 0.0367, 0.9934, 0.0659]])"
      ]
     },
     "execution_count": 215,
     "metadata": {},
     "output_type": "execute_result"
    }
   ],
   "source": [
    "#  creating random tensors\n",
    "randomTensor = torch.rand(3,4)\n",
    "randomTensor"
   ]
  },
  {
   "cell_type": "code",
   "execution_count": 216,
   "id": "bedb0d4c-c692-4eb4-8702-2e49c5386ab0",
   "metadata": {},
   "outputs": [
    {
     "data": {
      "text/plain": [
       "2"
      ]
     },
     "execution_count": 216,
     "metadata": {},
     "output_type": "execute_result"
    }
   ],
   "source": [
    "randomTensor.ndim"
   ]
  },
  {
   "cell_type": "code",
   "execution_count": 217,
   "id": "6fdaa3de-55e0-45fe-b123-0a83ba6276b2",
   "metadata": {},
   "outputs": [
    {
     "data": {
      "text/plain": [
       "3"
      ]
     },
     "execution_count": 217,
     "metadata": {},
     "output_type": "execute_result"
    }
   ],
   "source": [
    "imageDataTensor=torch.rand(size=(224,224,3))\n",
    "imageDataTensor.ndim"
   ]
  },
  {
   "cell_type": "code",
   "execution_count": 218,
   "id": "13280cb9-48f9-46a9-901a-712d5a447dde",
   "metadata": {},
   "outputs": [],
   "source": [
    "ones=torch.ones(2,4)\n",
    "zeros = torch.zeros(size=(2,4))"
   ]
  },
  {
   "cell_type": "code",
   "execution_count": 219,
   "id": "fed548f3-a245-45a7-9ff0-a47eb7fdd894",
   "metadata": {},
   "outputs": [
    {
     "data": {
      "text/plain": [
       "tensor([[0., 0., 0., 0.],\n",
       "        [0., 0., 0., 0.]])"
      ]
     },
     "execution_count": 219,
     "metadata": {},
     "output_type": "execute_result"
    }
   ],
   "source": [
    "zeros"
   ]
  },
  {
   "cell_type": "code",
   "execution_count": 220,
   "id": "0acf1af8-9940-46d5-8ff4-8b7f0b588295",
   "metadata": {},
   "outputs": [
    {
     "data": {
      "text/plain": [
       "torch.float32"
      ]
     },
     "execution_count": 220,
     "metadata": {},
     "output_type": "execute_result"
    }
   ],
   "source": [
    "zeros.dtype"
   ]
  },
  {
   "cell_type": "code",
   "execution_count": 221,
   "id": "9a7198d1-1d87-4dc3-8767-f6419b18c880",
   "metadata": {},
   "outputs": [
    {
     "data": {
      "text/plain": [
       "tensor([[1., 1., 1., 1.],\n",
       "        [1., 1., 1., 1.]])"
      ]
     },
     "execution_count": 221,
     "metadata": {},
     "output_type": "execute_result"
    }
   ],
   "source": [
    "ones"
   ]
  },
  {
   "cell_type": "code",
   "execution_count": 222,
   "id": "45f60d09-60b5-490e-9e23-999d93206276",
   "metadata": {},
   "outputs": [
    {
     "data": {
      "text/plain": [
       "tensor([0, 1, 2, 3, 4, 5, 6, 7, 8, 9])"
      ]
     },
     "execution_count": 222,
     "metadata": {},
     "output_type": "execute_result"
    }
   ],
   "source": [
    "tillNineSequ = torch.arange(0,10)\n",
    "tillNineSequ"
   ]
  },
  {
   "cell_type": "markdown",
   "id": "ffd5e3f3-da0b-4273-acc6-3988284b8d87",
   "metadata": {},
   "source": [
    "`torch.zeros_like` is an interesting fucntion"
   ]
  },
  {
   "cell_type": "code",
   "execution_count": 223,
   "id": "fae75b9e-ed8b-4152-83c1-cee6ac7ad3a2",
   "metadata": {},
   "outputs": [
    {
     "data": {
      "text/plain": [
       "tensor([1, 1, 1, 1, 1, 1, 1, 1, 1, 1])"
      ]
     },
     "execution_count": 223,
     "metadata": {},
     "output_type": "execute_result"
    }
   ],
   "source": [
    "emptySimilarSequ = torch.zeros_like(tillNineSequ)\n",
    "emptySimilarSequ\n",
    "onesSimilarSequ = torch.ones_like(tillNineSequ)\n",
    "onesSimilarSequ"
   ]
  },
  {
   "cell_type": "markdown",
   "id": "7ad0e6ae-b278-4e79-8bed-0f480fe9d811",
   "metadata": {},
   "source": [
    "Playing with datatypes -> dtype = , argument"
   ]
  },
  {
   "cell_type": "code",
   "execution_count": 224,
   "id": "a76d0985-f49e-415d-a57c-c2b1ecf0cfb1",
   "metadata": {},
   "outputs": [
    {
     "data": {
      "text/plain": [
       "torch.int64"
      ]
     },
     "execution_count": 224,
     "metadata": {},
     "output_type": "execute_result"
    }
   ],
   "source": [
    "newTensor = torch.tensor([3,6,9])\n",
    "newTensor.dtype"
   ]
  },
  {
   "cell_type": "markdown",
   "id": "2ba926fc-e545-4cad-9124-3353f9ecc9be",
   "metadata": {},
   "source": [
    "### Tensor creation has some arguments like device and require_grad\n",
    "\n",
    "device must be the same for 2 tensors for them be involved with each other in an operation\n",
    "and, require_grad -> if the tensors values will requires gradient calculation in the future or not\n"
   ]
  },
  {
   "cell_type": "code",
   "execution_count": 225,
   "id": "22240f42-8311-4e53-a95f-bc717a27794d",
   "metadata": {},
   "outputs": [
    {
     "data": {
      "text/plain": [
       "torch.Size([2, 3])"
      ]
     },
     "execution_count": 225,
     "metadata": {},
     "output_type": "execute_result"
    }
   ],
   "source": [
    "newRandTensor = torch.randint(low=0,high=10,size=(2,3))\n",
    "newRandTensor\n",
    "newRandTensor.shape"
   ]
  },
  {
   "cell_type": "markdown",
   "id": "2b86fb81-047c-4eca-b774-fedb9e935bd0",
   "metadata": {},
   "source": [
    "## Manipulating Tensors , Tensor operations\n",
    "\n",
    "1. Addition\n",
    "2. Subtraction\n",
    "3. Multiplication - elt wise\n",
    "4. Division\n",
    "5. Matrix Multiplicatiom"
   ]
  },
  {
   "cell_type": "code",
   "execution_count": 226,
   "id": "77c57bce-b313-4c27-91ca-7863be95d1c6",
   "metadata": {},
   "outputs": [
    {
     "data": {
      "text/plain": [
       "torch.Size([3])"
      ]
     },
     "execution_count": 226,
     "metadata": {},
     "output_type": "execute_result"
    }
   ],
   "source": [
    "tensor = torch.tensor([1,2,3])\n",
    "tensor +10\n",
    "tensor.shape"
   ]
  },
  {
   "cell_type": "code",
   "execution_count": 227,
   "id": "9cf51c6f-9e2e-4f2e-939e-411a97b2df8e",
   "metadata": {},
   "outputs": [
    {
     "data": {
      "text/plain": [
       "tensor([10, 20, 30])"
      ]
     },
     "execution_count": 227,
     "metadata": {},
     "output_type": "execute_result"
    }
   ],
   "source": [
    "tensor*10"
   ]
  },
  {
   "cell_type": "code",
   "execution_count": 228,
   "id": "c0734362-9057-47c1-80b9-3fd107f58e49",
   "metadata": {},
   "outputs": [
    {
     "data": {
      "text/plain": [
       "tensor([0.1000, 0.2000, 0.3000])"
      ]
     },
     "execution_count": 228,
     "metadata": {},
     "output_type": "execute_result"
    }
   ],
   "source": [
    "tensor/10"
   ]
  },
  {
   "cell_type": "code",
   "execution_count": 229,
   "id": "13275366-18bf-4175-8adb-a102636e70a3",
   "metadata": {},
   "outputs": [
    {
     "data": {
      "text/plain": [
       "tensor([-9, -8, -7])"
      ]
     },
     "execution_count": 229,
     "metadata": {},
     "output_type": "execute_result"
    }
   ],
   "source": [
    "tensor-10"
   ]
  },
  {
   "cell_type": "markdown",
   "id": "76e0d62d-1309-4201-84dc-06e63c3e5496",
   "metadata": {},
   "source": [
    "### Inbuilt fxns exist like `torch.add(tensor,10)` etc..."
   ]
  },
  {
   "cell_type": "code",
   "execution_count": 230,
   "id": "43d9ea13-8083-4c55-a2ff-32941133ae6b",
   "metadata": {},
   "outputs": [
    {
     "data": {
      "text/plain": [
       "tensor([4, 9, 8])"
      ]
     },
     "execution_count": 230,
     "metadata": {},
     "output_type": "execute_result"
    }
   ],
   "source": [
    "tensor2 = torch.randint(low=0,high=10,size=(3,))\n",
    "tensor2"
   ]
  },
  {
   "cell_type": "code",
   "execution_count": 231,
   "id": "d7b0bf5d-2dc6-423b-b883-05956dc7903b",
   "metadata": {},
   "outputs": [
    {
     "data": {
      "text/plain": [
       "tensor([ 5, 11, 11])"
      ]
     },
     "execution_count": 231,
     "metadata": {},
     "output_type": "execute_result"
    }
   ],
   "source": [
    "tensor + tensor2"
   ]
  },
  {
   "cell_type": "code",
   "execution_count": 232,
   "id": "bd9ab043-7bae-422a-9b20-a41c3f8f0691",
   "metadata": {},
   "outputs": [
    {
     "data": {
      "text/plain": [
       "tensor([-3, -7, -5])"
      ]
     },
     "execution_count": 232,
     "metadata": {},
     "output_type": "execute_result"
    }
   ],
   "source": [
    "tensor - tensor2"
   ]
  },
  {
   "cell_type": "code",
   "execution_count": 233,
   "id": "72b61929-9616-4958-b1c5-2515e38d5b7a",
   "metadata": {},
   "outputs": [
    {
     "data": {
      "text/plain": [
       "tensor([ 4, 18, 24])"
      ]
     },
     "execution_count": 233,
     "metadata": {},
     "output_type": "execute_result"
    }
   ],
   "source": [
    "tensor * tensor2"
   ]
  },
  {
   "cell_type": "code",
   "execution_count": 234,
   "id": "3896df60-3590-4771-a300-0b8d2d3cabbf",
   "metadata": {},
   "outputs": [
    {
     "data": {
      "text/plain": [
       "tensor(46)"
      ]
     },
     "execution_count": 234,
     "metadata": {},
     "output_type": "execute_result"
    }
   ],
   "source": [
    "tensor @ tensor2"
   ]
  },
  {
   "cell_type": "code",
   "execution_count": 235,
   "id": "32fcc758-5e63-4784-b21b-3014000ce78f",
   "metadata": {},
   "outputs": [
    {
     "data": {
      "text/plain": [
       "tensor(46)"
      ]
     },
     "execution_count": 235,
     "metadata": {},
     "output_type": "execute_result"
    }
   ],
   "source": [
    "torch.matmul(tensor,tensor2)"
   ]
  },
  {
   "cell_type": "code",
   "execution_count": 236,
   "id": "6c411344-6662-4150-a456-02dc46e2031e",
   "metadata": {},
   "outputs": [
    {
     "name": "stdout",
     "output_type": "stream",
     "text": [
      "CPU times: user 1.19 ms, sys: 16 μs, total: 1.2 ms\n",
      "Wall time: 1.3 ms\n"
     ]
    },
    {
     "data": {
      "text/plain": [
       "tensor([[1.3460],\n",
       "        [0.8970]])"
      ]
     },
     "execution_count": 236,
     "metadata": {},
     "output_type": "execute_result"
    }
   ],
   "source": [
    "%%time\n",
    "torch.matmul(torch.rand(2,4),torch.rand(4,1))"
   ]
  },
  {
   "cell_type": "code",
   "execution_count": 237,
   "id": "9871bfc2-8ac7-47ab-9331-66679f054543",
   "metadata": {},
   "outputs": [
    {
     "data": {
      "text/plain": [
       "tensor([[9, 8, 2],\n",
       "        [5, 7, 3]])"
      ]
     },
     "execution_count": 237,
     "metadata": {},
     "output_type": "execute_result"
    }
   ],
   "source": [
    "newRandTensor"
   ]
  },
  {
   "cell_type": "code",
   "execution_count": 238,
   "id": "6fc5f774-7a76-46b4-becf-027e78922d48",
   "metadata": {},
   "outputs": [
    {
     "data": {
      "text/plain": [
       "tensor([[9, 5],\n",
       "        [8, 7],\n",
       "        [2, 3]])"
      ]
     },
     "execution_count": 238,
     "metadata": {},
     "output_type": "execute_result"
    }
   ],
   "source": [
    "newRandTensor.T"
   ]
  },
  {
   "cell_type": "code",
   "execution_count": 239,
   "id": "3c06ac19-f255-4591-a096-bd99e7d05799",
   "metadata": {},
   "outputs": [
    {
     "data": {
      "text/plain": [
       "tensor([20, 30, 40, 50, 60, 70, 80, 90])"
      ]
     },
     "execution_count": 239,
     "metadata": {},
     "output_type": "execute_result"
    }
   ],
   "source": [
    "x = torch.arange(20,100,10)\n",
    "x"
   ]
  },
  {
   "cell_type": "code",
   "execution_count": 240,
   "id": "a8f23688-2049-4a04-a6ab-0eef6b6dc197",
   "metadata": {},
   "outputs": [
    {
     "data": {
      "text/plain": [
       "tensor(20)"
      ]
     },
     "execution_count": 240,
     "metadata": {},
     "output_type": "execute_result"
    }
   ],
   "source": [
    "torch.min(x)"
   ]
  },
  {
   "cell_type": "code",
   "execution_count": 241,
   "id": "9539a4ef-8e05-452e-bd6f-e36c555c8fbd",
   "metadata": {},
   "outputs": [
    {
     "data": {
      "text/plain": [
       "tensor(90)"
      ]
     },
     "execution_count": 241,
     "metadata": {},
     "output_type": "execute_result"
    }
   ],
   "source": [
    "torch.max(x)"
   ]
  },
  {
   "cell_type": "code",
   "execution_count": 242,
   "id": "5c884cb0-9aef-471b-a113-edb0b36eece3",
   "metadata": {},
   "outputs": [
    {
     "data": {
      "text/plain": [
       "(tensor(55.), tensor(55.))"
      ]
     },
     "execution_count": 242,
     "metadata": {},
     "output_type": "execute_result"
    }
   ],
   "source": [
    "torch.mean(x.type(torch.float32)),x.type(torch.float32).mean()"
   ]
  },
  {
   "cell_type": "code",
   "execution_count": 243,
   "id": "10ea0e50-10c8-4c6c-b6d6-0c2d2bca388e",
   "metadata": {},
   "outputs": [
    {
     "data": {
      "text/plain": [
       "tensor(440)"
      ]
     },
     "execution_count": 243,
     "metadata": {},
     "output_type": "execute_result"
    }
   ],
   "source": [
    "x.sum()"
   ]
  },
  {
   "cell_type": "code",
   "execution_count": 244,
   "id": "094ec898-20f2-48ae-8c28-07049d72e3b0",
   "metadata": {},
   "outputs": [
    {
     "data": {
      "text/plain": [
       "tensor(0)"
      ]
     },
     "execution_count": 244,
     "metadata": {},
     "output_type": "execute_result"
    }
   ],
   "source": [
    "x.argmin()"
   ]
  },
  {
   "cell_type": "code",
   "execution_count": 245,
   "id": "4c9eb590-c461-49b5-af69-b3a150cbd2fc",
   "metadata": {},
   "outputs": [
    {
     "name": "stdout",
     "output_type": "stream",
     "text": [
      "the tensor x has a minimum of 20 at position: 0, out of 7\n"
     ]
    }
   ],
   "source": [
    "print(f\"the tensor x has a minimum of {x.min()} at position: {x.argmin()}, out of {x.size(0)-1}\")"
   ]
  },
  {
   "cell_type": "code",
   "execution_count": 246,
   "id": "ce565286-c6fa-4113-a3b4-627f0682d95b",
   "metadata": {},
   "outputs": [
    {
     "name": "stdout",
     "output_type": "stream",
     "text": [
      "the tensor x has a max of 90 at position: 7\n"
     ]
    }
   ],
   "source": [
    "print(f\"the tensor x has a max of {x.max()} at position: {x.argmax()}\")"
   ]
  },
  {
   "cell_type": "markdown",
   "id": "33a332f7-eaca-4a9f-8cee-71f495885fb7",
   "metadata": {},
   "source": [
    "## Reshaping, Stacking, Viewing , Squeezing and unsqueezing"
   ]
  },
  {
   "cell_type": "code",
   "execution_count": 275,
   "id": "b0072256-63cc-4692-b18a-1e56e2ae0ff1",
   "metadata": {},
   "outputs": [
    {
     "data": {
      "text/plain": [
       "2"
      ]
     },
     "execution_count": 275,
     "metadata": {},
     "output_type": "execute_result"
    }
   ],
   "source": [
    "testRandTensor = torch.rand(1,10)\n",
    "testRandTensor.ndim"
   ]
  },
  {
   "cell_type": "code",
   "execution_count": 251,
   "id": "c340aef1-bb0a-4026-824b-542dd66b7f77",
   "metadata": {},
   "outputs": [
    {
     "data": {
      "text/plain": [
       "tensor([[0.1303, 0.3749, 0.1158, 0.4489, 0.2560],\n",
       "        [0.2194, 0.9012, 0.1263, 0.6678, 0.1511]])"
      ]
     },
     "execution_count": 251,
     "metadata": {},
     "output_type": "execute_result"
    }
   ],
   "source": [
    "reshapedTensor = testRandTensor.reshape(2,5)\n",
    "reshapedTensor"
   ]
  },
  {
   "cell_type": "code",
   "execution_count": 252,
   "id": "8d875193-b8b6-4014-aa66-45a523988518",
   "metadata": {},
   "outputs": [
    {
     "data": {
      "text/plain": [
       "tensor([[0.1303, 0.3749],\n",
       "        [0.1158, 0.4489],\n",
       "        [0.2560, 0.2194],\n",
       "        [0.9012, 0.1263],\n",
       "        [0.6678, 0.1511]])"
      ]
     },
     "execution_count": 252,
     "metadata": {},
     "output_type": "execute_result"
    }
   ],
   "source": [
    "reshapedTensor = testRandTensor.reshape(5,2)\n",
    "reshapedTensor"
   ]
  },
  {
   "cell_type": "markdown",
   "id": "361f7760-54cd-4e61-82b3-564f4220b65d",
   "metadata": {},
   "source": [
    "For reshaping ,  the product of dims must be same thats it"
   ]
  },
  {
   "cell_type": "code",
   "execution_count": 269,
   "id": "f367b095-64bd-4230-9089-66af1ced9825",
   "metadata": {},
   "outputs": [
    {
     "data": {
      "text/plain": [
       "tensor([[5.0000, 5.0000, 5.0000, 5.0000, 5.0000, 0.2194, 0.9012, 0.1263, 0.6678,\n",
       "         0.1511]])"
      ]
     },
     "execution_count": 269,
     "metadata": {},
     "output_type": "execute_result"
    }
   ],
   "source": [
    "memSharingTensor=testRandTensor.view(1,10)\n",
    "memSharingTensor"
   ]
  },
  {
   "cell_type": "code",
   "execution_count": 270,
   "id": "a3f191a9-6b05-42e3-a777-2bc40f92eb27",
   "metadata": {},
   "outputs": [],
   "source": [
    "memSharingTensor[0] =5"
   ]
  },
  {
   "cell_type": "code",
   "execution_count": 271,
   "id": "cff1bbbd-f691-40f7-a88e-ac18712df66c",
   "metadata": {},
   "outputs": [
    {
     "data": {
      "text/plain": [
       "tensor([[5., 5., 5., 5., 5., 5., 5., 5., 5., 5.]])"
      ]
     },
     "execution_count": 271,
     "metadata": {},
     "output_type": "execute_result"
    }
   ],
   "source": [
    "memSharingTensor,testRandTensor\n",
    "memSharingTensor.reshape(1,10)"
   ]
  },
  {
   "cell_type": "markdown",
   "id": "1ef8a115-9d8a-4700-b41b-a94de954d55c",
   "metadata": {},
   "source": [
    "### stack"
   ]
  },
  {
   "cell_type": "code",
   "execution_count": 273,
   "id": "95ae67d6-51eb-458e-8907-bdd9af5f8141",
   "metadata": {},
   "outputs": [
    {
     "data": {
      "text/plain": [
       "tensor([[[5., 5., 5., 5., 5., 5., 5., 5., 5., 5.]],\n",
       "\n",
       "        [[5., 5., 5., 5., 5., 5., 5., 5., 5., 5.]]])"
      ]
     },
     "execution_count": 273,
     "metadata": {},
     "output_type": "execute_result"
    }
   ],
   "source": [
    "stackedTensor = torch.stack((testRandTensor,memSharingTensor))\n",
    "stackedTensor"
   ]
  },
  {
   "cell_type": "code",
   "execution_count": 274,
   "id": "e891d054-6bf2-4b10-a22a-4ea0738ab8b0",
   "metadata": {},
   "outputs": [
    {
     "data": {
      "text/plain": [
       "3"
      ]
     },
     "execution_count": 274,
     "metadata": {},
     "output_type": "execute_result"
    }
   ],
   "source": [
    "stackedTensor.ndim"
   ]
  },
  {
   "cell_type": "markdown",
   "id": "9ef6069c-bd26-4c30-ace0-5b2e24f385a4",
   "metadata": {},
   "source": [
    "# Reproducubility"
   ]
  },
  {
   "cell_type": "markdown",
   "id": "c55455ec-21f2-4720-959b-9f9232b52a8e",
   "metadata": {},
   "source": [
    "To reduce the randomness in NNs and pytorch , there is a concept of a `random seed`\n",
    "\n",
    "`torch.rand` is not completely random , it is pseudo random, and the `seed` gives that randomness a flavor!"
   ]
  },
  {
   "cell_type": "code",
   "execution_count": 278,
   "id": "85c7acb8-9044-4107-a15b-b3ca1aaf60fd",
   "metadata": {},
   "outputs": [
    {
     "name": "stdout",
     "output_type": "stream",
     "text": [
      "tensor([[False, False, False, False],\n",
      "        [False, False, False, False],\n",
      "        [False, False, False, False]])\n"
     ]
    }
   ],
   "source": [
    "randTensA = torch.rand(3,4)\n",
    "randTensB = torch.rand(3,4)\n",
    "print(randTensA==randTensB)"
   ]
  },
  {
   "cell_type": "code",
   "execution_count": 282,
   "id": "6ef34e62-0d8c-4993-820f-1dbdc68199b3",
   "metadata": {},
   "outputs": [
    {
     "name": "stdout",
     "output_type": "stream",
     "text": [
      "tensor([[True, True, True, True],\n",
      "        [True, True, True, True],\n",
      "        [True, True, True, True]])\n"
     ]
    },
    {
     "data": {
      "text/plain": [
       "tensor([[0.8823, 0.9150, 0.3829, 0.9593],\n",
       "        [0.3904, 0.6009, 0.2566, 0.7936],\n",
       "        [0.9408, 0.1332, 0.9346, 0.5936]])"
      ]
     },
     "execution_count": 282,
     "metadata": {},
     "output_type": "execute_result"
    }
   ],
   "source": [
    "randomSeed = 42\n",
    "torch.manual_seed(randomSeed)\n",
    "randTensA = torch.rand(3,4)\n",
    "torch.manual_seed(randomSeed)\n",
    "randTensB = torch.rand(3,4)\n",
    "print(randTensA==randTensB)\n",
    "randTensB"
   ]
  },
  {
   "cell_type": "code",
   "execution_count": 283,
   "id": "3860a0c2-dcca-45ef-aa8f-6c49a650575f",
   "metadata": {},
   "outputs": [
    {
     "data": {
      "text/plain": [
       "True"
      ]
     },
     "execution_count": 283,
     "metadata": {},
     "output_type": "execute_result"
    }
   ],
   "source": [
    "torch.cuda.is_available()"
   ]
  },
  {
   "cell_type": "code",
   "execution_count": 284,
   "id": "6a922f60-1c3d-4999-b34a-ce271a863b2a",
   "metadata": {},
   "outputs": [],
   "source": [
    "device = \"cuda\" if torch.cuda.is_available() else \"cpu\""
   ]
  },
  {
   "cell_type": "code",
   "execution_count": 285,
   "id": "37290525-b4c1-4271-a7a4-a8aba43cd250",
   "metadata": {},
   "outputs": [
    {
     "data": {
      "text/plain": [
       "'cuda'"
      ]
     },
     "execution_count": 285,
     "metadata": {},
     "output_type": "execute_result"
    }
   ],
   "source": [
    "device"
   ]
  },
  {
   "cell_type": "markdown",
   "id": "561fccda-0bd5-4ce2-af47-30bfc8f5c086",
   "metadata": {},
   "source": [
    "# AutoGrad"
   ]
  },
  {
   "cell_type": "code",
   "execution_count": 7,
   "id": "08de6173-b835-4f3c-b18e-3350a0b7397b",
   "metadata": {},
   "outputs": [
    {
     "name": "stdout",
     "output_type": "stream",
     "text": [
      "tensor(3., requires_grad=True) tensor(9., grad_fn=<PowBackward0>)\n"
     ]
    }
   ],
   "source": [
    "import torch\n",
    "x = torch.tensor(3.0, requires_grad = True) # tells that this tensor needs a derivative\n",
    "y = x**2\n",
    "print(x,y)"
   ]
  },
  {
   "cell_type": "code",
   "execution_count": 8,
   "id": "1b47faec-98a3-4abe-9ad2-bd1fe97b2854",
   "metadata": {},
   "outputs": [
    {
     "name": "stdout",
     "output_type": "stream",
     "text": [
      "tensor(0.4121, grad_fn=<SinBackward0>)\n"
     ]
    }
   ],
   "source": [
    "z = torch.sin(y)\n",
    "print(z)"
   ]
  },
  {
   "cell_type": "code",
   "execution_count": 9,
   "id": "7812641c-02dc-467a-be8a-5d42bc6f12d5",
   "metadata": {},
   "outputs": [],
   "source": [
    "z.backward()\n"
   ]
  },
  {
   "cell_type": "code",
   "execution_count": 11,
   "id": "cae08fc5-f530-48c0-aaac-bd0cfbb234c7",
   "metadata": {},
   "outputs": [
    {
     "data": {
      "text/plain": [
       "tensor(-5.4668)"
      ]
     },
     "execution_count": 11,
     "metadata": {},
     "output_type": "execute_result"
    }
   ],
   "source": [
    "x.grad"
   ]
  },
  {
   "cell_type": "code",
   "execution_count": 15,
   "id": "e6fb2e43-0fc3-43eb-92ef-221e4a41203d",
   "metadata": {},
   "outputs": [],
   "source": [
    "x = torch.tensor(3.0, requires_grad = True)\n",
    "y = x**2\n",
    "z = torch.sin(y)"
   ]
  },
  {
   "cell_type": "code",
   "execution_count": 16,
   "id": "62f5cb99-b39b-422f-8912-a7dff19ed525",
   "metadata": {},
   "outputs": [],
   "source": [
    "y.backward()"
   ]
  },
  {
   "cell_type": "code",
   "execution_count": 17,
   "id": "9405a260-8a6c-451a-b06e-ea4a20dfe178",
   "metadata": {},
   "outputs": [
    {
     "data": {
      "text/plain": [
       "tensor(6.)"
      ]
     },
     "execution_count": 17,
     "metadata": {},
     "output_type": "execute_result"
    }
   ],
   "source": [
    "x.grad"
   ]
  },
  {
   "cell_type": "code",
   "execution_count": 40,
   "id": "f8e5e224-6a7a-4247-a230-3a17053f169b",
   "metadata": {},
   "outputs": [],
   "source": [
    "def binaryCrossEntropyLoss(yPred,yTrue):\n",
    "    loss = -1*yTrue*torch.log(yPred) + -1*(1-yTrue)*torch.log(1 - yPred)\n",
    "    return loss"
   ]
  },
  {
   "cell_type": "code",
   "execution_count": 31,
   "id": "2d3b750c-15c2-4b3e-b5e7-229f72605454",
   "metadata": {},
   "outputs": [],
   "source": [
    "x = torch.tensor(6.7)\n",
    "y = torch.tensor(0.0)\n",
    "w = torch.tensor(1.0, requires_grad = True)\n",
    "b = torch.tensor(0.0, requires_grad = True)"
   ]
  },
  {
   "cell_type": "code",
   "execution_count": 32,
   "id": "55b37564-2d8d-4ef8-8019-0069d02e364e",
   "metadata": {},
   "outputs": [
    {
     "data": {
      "text/plain": [
       "tensor(1., requires_grad=True)"
      ]
     },
     "execution_count": 32,
     "metadata": {},
     "output_type": "execute_result"
    }
   ],
   "source": [
    "w"
   ]
  },
  {
   "cell_type": "code",
   "execution_count": 33,
   "id": "e7ffcc61-5d43-4093-9431-c67bd78aa782",
   "metadata": {},
   "outputs": [
    {
     "data": {
      "text/plain": [
       "tensor(0., requires_grad=True)"
      ]
     },
     "execution_count": 33,
     "metadata": {},
     "output_type": "execute_result"
    }
   ],
   "source": [
    "b"
   ]
  },
  {
   "cell_type": "code",
   "execution_count": 34,
   "id": "0ea470c6-ef04-4c9a-801e-613013377d81",
   "metadata": {},
   "outputs": [],
   "source": [
    "z = w*x+b"
   ]
  },
  {
   "cell_type": "code",
   "execution_count": 35,
   "id": "ecb5d729-aa93-4430-b5e3-43f61dcb614e",
   "metadata": {},
   "outputs": [],
   "source": [
    "yPred = torch.sigmoid(z)"
   ]
  },
  {
   "cell_type": "code",
   "execution_count": 36,
   "id": "1d9e6da5-5e83-4dc9-b1b5-c0d9f8f3fbcd",
   "metadata": {},
   "outputs": [
    {
     "data": {
      "text/plain": [
       "tensor(0.9988, grad_fn=<SigmoidBackward0>)"
      ]
     },
     "execution_count": 36,
     "metadata": {},
     "output_type": "execute_result"
    }
   ],
   "source": [
    "yPred"
   ]
  },
  {
   "cell_type": "code",
   "execution_count": 41,
   "id": "e838685e-a2dc-46a7-a7d7-36c297c907f3",
   "metadata": {},
   "outputs": [
    {
     "name": "stdout",
     "output_type": "stream",
     "text": [
      "tensor(6.7012, grad_fn=<AddBackward0>)\n"
     ]
    }
   ],
   "source": [
    "loss = binaryCrossEntropyLoss(yPred,y)\n",
    "print(loss)"
   ]
  },
  {
   "cell_type": "code",
   "execution_count": 42,
   "id": "17ae8dd7-5feb-4865-ab1a-9f6e66aed18d",
   "metadata": {},
   "outputs": [],
   "source": [
    "loss.backward()"
   ]
  },
  {
   "cell_type": "code",
   "execution_count": 43,
   "id": "7e952392-7b94-4093-aeca-e305bf8fb357",
   "metadata": {},
   "outputs": [
    {
     "data": {
      "text/plain": [
       "tensor(6.6918)"
      ]
     },
     "execution_count": 43,
     "metadata": {},
     "output_type": "execute_result"
    }
   ],
   "source": [
    "w.grad"
   ]
  },
  {
   "cell_type": "code",
   "execution_count": 44,
   "id": "9e38734a-b021-4337-a68a-b0fe92138646",
   "metadata": {},
   "outputs": [
    {
     "data": {
      "text/plain": [
       "tensor(0.9988)"
      ]
     },
     "execution_count": 44,
     "metadata": {},
     "output_type": "execute_result"
    }
   ],
   "source": [
    "b.grad"
   ]
  },
  {
   "cell_type": "code",
   "execution_count": 46,
   "id": "d4df845d-1b6d-4b8c-8bfe-6ac85a102168",
   "metadata": {},
   "outputs": [],
   "source": [
    "x = torch.tensor([1.0,2.0,3.0], requires_grad = True)\n",
    "y = (x**2).mean()"
   ]
  },
  {
   "cell_type": "raw",
   "id": "1a447b30-94fd-4a6e-8e7a-5cbae9fb248e",
   "metadata": {},
   "source": [
    "y.backward()"
   ]
  },
  {
   "cell_type": "code",
   "execution_count": 48,
   "id": "59e3d44e-f718-4285-9298-ce6d5c958760",
   "metadata": {},
   "outputs": [
    {
     "data": {
      "text/plain": [
       "tensor([0.6667, 1.3333, 2.0000])"
      ]
     },
     "execution_count": 48,
     "metadata": {},
     "output_type": "execute_result"
    }
   ],
   "source": [
    "x.grad"
   ]
  },
  {
   "cell_type": "code",
   "execution_count": 56,
   "id": "f4b7b73c-6598-4a48-aac2-5f48637266c2",
   "metadata": {},
   "outputs": [],
   "source": [
    "x = torch.tensor([2.0,4.0], requires_grad = True)\n",
    "y = x**2\n",
    "z = y.sum()"
   ]
  },
  {
   "cell_type": "code",
   "execution_count": 57,
   "id": "34ce75c5-2501-4589-99d1-f3c70f499829",
   "metadata": {},
   "outputs": [
    {
     "data": {
      "text/plain": [
       "tensor([4., 8.])"
      ]
     },
     "execution_count": 57,
     "metadata": {},
     "output_type": "execute_result"
    }
   ],
   "source": [
    "z.backward()\n",
    "x.grad"
   ]
  },
  {
   "cell_type": "markdown",
   "id": "ca235236-9728-4b99-8149-8060faaf691f",
   "metadata": {},
   "source": [
    "# Single perceptron on BreastCancer data"
   ]
  },
  {
   "cell_type": "code",
   "execution_count": 58,
   "id": "0552d4b6-e55f-4048-8f8e-50574e95caf9",
   "metadata": {},
   "outputs": [],
   "source": [
    "import numpy as np\n",
    "import pandas as pd\n",
    "import torch\n",
    "from sklearn.model_selection import train_test_split\n",
    "from sklearn.preprocessing import StandardScaler\n",
    "from sklearn.preprocessing import LabelEncoder"
   ]
  },
  {
   "cell_type": "code",
   "execution_count": 59,
   "id": "013b884c-b516-4af3-a373-67e07e52607d",
   "metadata": {},
   "outputs": [
    {
     "data": {
      "text/html": [
       "<div>\n",
       "<style scoped>\n",
       "    .dataframe tbody tr th:only-of-type {\n",
       "        vertical-align: middle;\n",
       "    }\n",
       "\n",
       "    .dataframe tbody tr th {\n",
       "        vertical-align: top;\n",
       "    }\n",
       "\n",
       "    .dataframe thead th {\n",
       "        text-align: right;\n",
       "    }\n",
       "</style>\n",
       "<table border=\"1\" class=\"dataframe\">\n",
       "  <thead>\n",
       "    <tr style=\"text-align: right;\">\n",
       "      <th></th>\n",
       "      <th>id</th>\n",
       "      <th>diagnosis</th>\n",
       "      <th>radius_mean</th>\n",
       "      <th>texture_mean</th>\n",
       "      <th>perimeter_mean</th>\n",
       "      <th>area_mean</th>\n",
       "      <th>smoothness_mean</th>\n",
       "      <th>compactness_mean</th>\n",
       "      <th>concavity_mean</th>\n",
       "      <th>concave points_mean</th>\n",
       "      <th>...</th>\n",
       "      <th>texture_worst</th>\n",
       "      <th>perimeter_worst</th>\n",
       "      <th>area_worst</th>\n",
       "      <th>smoothness_worst</th>\n",
       "      <th>compactness_worst</th>\n",
       "      <th>concavity_worst</th>\n",
       "      <th>concave points_worst</th>\n",
       "      <th>symmetry_worst</th>\n",
       "      <th>fractal_dimension_worst</th>\n",
       "      <th>Unnamed: 32</th>\n",
       "    </tr>\n",
       "  </thead>\n",
       "  <tbody>\n",
       "    <tr>\n",
       "      <th>0</th>\n",
       "      <td>842302</td>\n",
       "      <td>M</td>\n",
       "      <td>17.99</td>\n",
       "      <td>10.38</td>\n",
       "      <td>122.80</td>\n",
       "      <td>1001.0</td>\n",
       "      <td>0.11840</td>\n",
       "      <td>0.27760</td>\n",
       "      <td>0.3001</td>\n",
       "      <td>0.14710</td>\n",
       "      <td>...</td>\n",
       "      <td>17.33</td>\n",
       "      <td>184.60</td>\n",
       "      <td>2019.0</td>\n",
       "      <td>0.1622</td>\n",
       "      <td>0.6656</td>\n",
       "      <td>0.7119</td>\n",
       "      <td>0.2654</td>\n",
       "      <td>0.4601</td>\n",
       "      <td>0.11890</td>\n",
       "      <td>NaN</td>\n",
       "    </tr>\n",
       "    <tr>\n",
       "      <th>1</th>\n",
       "      <td>842517</td>\n",
       "      <td>M</td>\n",
       "      <td>20.57</td>\n",
       "      <td>17.77</td>\n",
       "      <td>132.90</td>\n",
       "      <td>1326.0</td>\n",
       "      <td>0.08474</td>\n",
       "      <td>0.07864</td>\n",
       "      <td>0.0869</td>\n",
       "      <td>0.07017</td>\n",
       "      <td>...</td>\n",
       "      <td>23.41</td>\n",
       "      <td>158.80</td>\n",
       "      <td>1956.0</td>\n",
       "      <td>0.1238</td>\n",
       "      <td>0.1866</td>\n",
       "      <td>0.2416</td>\n",
       "      <td>0.1860</td>\n",
       "      <td>0.2750</td>\n",
       "      <td>0.08902</td>\n",
       "      <td>NaN</td>\n",
       "    </tr>\n",
       "    <tr>\n",
       "      <th>2</th>\n",
       "      <td>84300903</td>\n",
       "      <td>M</td>\n",
       "      <td>19.69</td>\n",
       "      <td>21.25</td>\n",
       "      <td>130.00</td>\n",
       "      <td>1203.0</td>\n",
       "      <td>0.10960</td>\n",
       "      <td>0.15990</td>\n",
       "      <td>0.1974</td>\n",
       "      <td>0.12790</td>\n",
       "      <td>...</td>\n",
       "      <td>25.53</td>\n",
       "      <td>152.50</td>\n",
       "      <td>1709.0</td>\n",
       "      <td>0.1444</td>\n",
       "      <td>0.4245</td>\n",
       "      <td>0.4504</td>\n",
       "      <td>0.2430</td>\n",
       "      <td>0.3613</td>\n",
       "      <td>0.08758</td>\n",
       "      <td>NaN</td>\n",
       "    </tr>\n",
       "    <tr>\n",
       "      <th>3</th>\n",
       "      <td>84348301</td>\n",
       "      <td>M</td>\n",
       "      <td>11.42</td>\n",
       "      <td>20.38</td>\n",
       "      <td>77.58</td>\n",
       "      <td>386.1</td>\n",
       "      <td>0.14250</td>\n",
       "      <td>0.28390</td>\n",
       "      <td>0.2414</td>\n",
       "      <td>0.10520</td>\n",
       "      <td>...</td>\n",
       "      <td>26.50</td>\n",
       "      <td>98.87</td>\n",
       "      <td>567.7</td>\n",
       "      <td>0.2098</td>\n",
       "      <td>0.8663</td>\n",
       "      <td>0.6869</td>\n",
       "      <td>0.2575</td>\n",
       "      <td>0.6638</td>\n",
       "      <td>0.17300</td>\n",
       "      <td>NaN</td>\n",
       "    </tr>\n",
       "    <tr>\n",
       "      <th>4</th>\n",
       "      <td>84358402</td>\n",
       "      <td>M</td>\n",
       "      <td>20.29</td>\n",
       "      <td>14.34</td>\n",
       "      <td>135.10</td>\n",
       "      <td>1297.0</td>\n",
       "      <td>0.10030</td>\n",
       "      <td>0.13280</td>\n",
       "      <td>0.1980</td>\n",
       "      <td>0.10430</td>\n",
       "      <td>...</td>\n",
       "      <td>16.67</td>\n",
       "      <td>152.20</td>\n",
       "      <td>1575.0</td>\n",
       "      <td>0.1374</td>\n",
       "      <td>0.2050</td>\n",
       "      <td>0.4000</td>\n",
       "      <td>0.1625</td>\n",
       "      <td>0.2364</td>\n",
       "      <td>0.07678</td>\n",
       "      <td>NaN</td>\n",
       "    </tr>\n",
       "  </tbody>\n",
       "</table>\n",
       "<p>5 rows × 33 columns</p>\n",
       "</div>"
      ],
      "text/plain": [
       "         id diagnosis  radius_mean  texture_mean  perimeter_mean  area_mean  \\\n",
       "0    842302         M        17.99         10.38          122.80     1001.0   \n",
       "1    842517         M        20.57         17.77          132.90     1326.0   \n",
       "2  84300903         M        19.69         21.25          130.00     1203.0   \n",
       "3  84348301         M        11.42         20.38           77.58      386.1   \n",
       "4  84358402         M        20.29         14.34          135.10     1297.0   \n",
       "\n",
       "   smoothness_mean  compactness_mean  concavity_mean  concave points_mean  \\\n",
       "0          0.11840           0.27760          0.3001              0.14710   \n",
       "1          0.08474           0.07864          0.0869              0.07017   \n",
       "2          0.10960           0.15990          0.1974              0.12790   \n",
       "3          0.14250           0.28390          0.2414              0.10520   \n",
       "4          0.10030           0.13280          0.1980              0.10430   \n",
       "\n",
       "   ...  texture_worst  perimeter_worst  area_worst  smoothness_worst  \\\n",
       "0  ...          17.33           184.60      2019.0            0.1622   \n",
       "1  ...          23.41           158.80      1956.0            0.1238   \n",
       "2  ...          25.53           152.50      1709.0            0.1444   \n",
       "3  ...          26.50            98.87       567.7            0.2098   \n",
       "4  ...          16.67           152.20      1575.0            0.1374   \n",
       "\n",
       "   compactness_worst  concavity_worst  concave points_worst  symmetry_worst  \\\n",
       "0             0.6656           0.7119                0.2654          0.4601   \n",
       "1             0.1866           0.2416                0.1860          0.2750   \n",
       "2             0.4245           0.4504                0.2430          0.3613   \n",
       "3             0.8663           0.6869                0.2575          0.6638   \n",
       "4             0.2050           0.4000                0.1625          0.2364   \n",
       "\n",
       "   fractal_dimension_worst  Unnamed: 32  \n",
       "0                  0.11890          NaN  \n",
       "1                  0.08902          NaN  \n",
       "2                  0.08758          NaN  \n",
       "3                  0.17300          NaN  \n",
       "4                  0.07678          NaN  \n",
       "\n",
       "[5 rows x 33 columns]"
      ]
     },
     "execution_count": 59,
     "metadata": {},
     "output_type": "execute_result"
    }
   ],
   "source": [
    "df = pd.read_csv('https://raw.githubusercontent.com/gscdit/Breast-Cancer-Detection/refs/heads/master/data.csv')\n",
    "df.head()"
   ]
  },
  {
   "cell_type": "code",
   "execution_count": 60,
   "id": "3bf54e98-ced9-49f6-9689-bd3d7e9f5238",
   "metadata": {},
   "outputs": [
    {
     "data": {
      "text/plain": [
       "(569, 33)"
      ]
     },
     "execution_count": 60,
     "metadata": {},
     "output_type": "execute_result"
    }
   ],
   "source": [
    "df.shape"
   ]
  },
  {
   "cell_type": "code",
   "execution_count": 61,
   "id": "d143012a-f942-44b4-8f06-8829f5867059",
   "metadata": {},
   "outputs": [],
   "source": [
    "df.drop(columns=['id', 'Unnamed: 32'], inplace= True)"
   ]
  },
  {
   "cell_type": "code",
   "execution_count": 62,
   "id": "682acef9-7c40-43a6-aa4d-b7914e8d3180",
   "metadata": {},
   "outputs": [
    {
     "data": {
      "text/html": [
       "<div>\n",
       "<style scoped>\n",
       "    .dataframe tbody tr th:only-of-type {\n",
       "        vertical-align: middle;\n",
       "    }\n",
       "\n",
       "    .dataframe tbody tr th {\n",
       "        vertical-align: top;\n",
       "    }\n",
       "\n",
       "    .dataframe thead th {\n",
       "        text-align: right;\n",
       "    }\n",
       "</style>\n",
       "<table border=\"1\" class=\"dataframe\">\n",
       "  <thead>\n",
       "    <tr style=\"text-align: right;\">\n",
       "      <th></th>\n",
       "      <th>diagnosis</th>\n",
       "      <th>radius_mean</th>\n",
       "      <th>texture_mean</th>\n",
       "      <th>perimeter_mean</th>\n",
       "      <th>area_mean</th>\n",
       "      <th>smoothness_mean</th>\n",
       "      <th>compactness_mean</th>\n",
       "      <th>concavity_mean</th>\n",
       "      <th>concave points_mean</th>\n",
       "      <th>symmetry_mean</th>\n",
       "      <th>...</th>\n",
       "      <th>radius_worst</th>\n",
       "      <th>texture_worst</th>\n",
       "      <th>perimeter_worst</th>\n",
       "      <th>area_worst</th>\n",
       "      <th>smoothness_worst</th>\n",
       "      <th>compactness_worst</th>\n",
       "      <th>concavity_worst</th>\n",
       "      <th>concave points_worst</th>\n",
       "      <th>symmetry_worst</th>\n",
       "      <th>fractal_dimension_worst</th>\n",
       "    </tr>\n",
       "  </thead>\n",
       "  <tbody>\n",
       "    <tr>\n",
       "      <th>0</th>\n",
       "      <td>M</td>\n",
       "      <td>17.99</td>\n",
       "      <td>10.38</td>\n",
       "      <td>122.80</td>\n",
       "      <td>1001.0</td>\n",
       "      <td>0.11840</td>\n",
       "      <td>0.27760</td>\n",
       "      <td>0.3001</td>\n",
       "      <td>0.14710</td>\n",
       "      <td>0.2419</td>\n",
       "      <td>...</td>\n",
       "      <td>25.38</td>\n",
       "      <td>17.33</td>\n",
       "      <td>184.60</td>\n",
       "      <td>2019.0</td>\n",
       "      <td>0.1622</td>\n",
       "      <td>0.6656</td>\n",
       "      <td>0.7119</td>\n",
       "      <td>0.2654</td>\n",
       "      <td>0.4601</td>\n",
       "      <td>0.11890</td>\n",
       "    </tr>\n",
       "    <tr>\n",
       "      <th>1</th>\n",
       "      <td>M</td>\n",
       "      <td>20.57</td>\n",
       "      <td>17.77</td>\n",
       "      <td>132.90</td>\n",
       "      <td>1326.0</td>\n",
       "      <td>0.08474</td>\n",
       "      <td>0.07864</td>\n",
       "      <td>0.0869</td>\n",
       "      <td>0.07017</td>\n",
       "      <td>0.1812</td>\n",
       "      <td>...</td>\n",
       "      <td>24.99</td>\n",
       "      <td>23.41</td>\n",
       "      <td>158.80</td>\n",
       "      <td>1956.0</td>\n",
       "      <td>0.1238</td>\n",
       "      <td>0.1866</td>\n",
       "      <td>0.2416</td>\n",
       "      <td>0.1860</td>\n",
       "      <td>0.2750</td>\n",
       "      <td>0.08902</td>\n",
       "    </tr>\n",
       "    <tr>\n",
       "      <th>2</th>\n",
       "      <td>M</td>\n",
       "      <td>19.69</td>\n",
       "      <td>21.25</td>\n",
       "      <td>130.00</td>\n",
       "      <td>1203.0</td>\n",
       "      <td>0.10960</td>\n",
       "      <td>0.15990</td>\n",
       "      <td>0.1974</td>\n",
       "      <td>0.12790</td>\n",
       "      <td>0.2069</td>\n",
       "      <td>...</td>\n",
       "      <td>23.57</td>\n",
       "      <td>25.53</td>\n",
       "      <td>152.50</td>\n",
       "      <td>1709.0</td>\n",
       "      <td>0.1444</td>\n",
       "      <td>0.4245</td>\n",
       "      <td>0.4504</td>\n",
       "      <td>0.2430</td>\n",
       "      <td>0.3613</td>\n",
       "      <td>0.08758</td>\n",
       "    </tr>\n",
       "    <tr>\n",
       "      <th>3</th>\n",
       "      <td>M</td>\n",
       "      <td>11.42</td>\n",
       "      <td>20.38</td>\n",
       "      <td>77.58</td>\n",
       "      <td>386.1</td>\n",
       "      <td>0.14250</td>\n",
       "      <td>0.28390</td>\n",
       "      <td>0.2414</td>\n",
       "      <td>0.10520</td>\n",
       "      <td>0.2597</td>\n",
       "      <td>...</td>\n",
       "      <td>14.91</td>\n",
       "      <td>26.50</td>\n",
       "      <td>98.87</td>\n",
       "      <td>567.7</td>\n",
       "      <td>0.2098</td>\n",
       "      <td>0.8663</td>\n",
       "      <td>0.6869</td>\n",
       "      <td>0.2575</td>\n",
       "      <td>0.6638</td>\n",
       "      <td>0.17300</td>\n",
       "    </tr>\n",
       "    <tr>\n",
       "      <th>4</th>\n",
       "      <td>M</td>\n",
       "      <td>20.29</td>\n",
       "      <td>14.34</td>\n",
       "      <td>135.10</td>\n",
       "      <td>1297.0</td>\n",
       "      <td>0.10030</td>\n",
       "      <td>0.13280</td>\n",
       "      <td>0.1980</td>\n",
       "      <td>0.10430</td>\n",
       "      <td>0.1809</td>\n",
       "      <td>...</td>\n",
       "      <td>22.54</td>\n",
       "      <td>16.67</td>\n",
       "      <td>152.20</td>\n",
       "      <td>1575.0</td>\n",
       "      <td>0.1374</td>\n",
       "      <td>0.2050</td>\n",
       "      <td>0.4000</td>\n",
       "      <td>0.1625</td>\n",
       "      <td>0.2364</td>\n",
       "      <td>0.07678</td>\n",
       "    </tr>\n",
       "  </tbody>\n",
       "</table>\n",
       "<p>5 rows × 31 columns</p>\n",
       "</div>"
      ],
      "text/plain": [
       "  diagnosis  radius_mean  texture_mean  perimeter_mean  area_mean  \\\n",
       "0         M        17.99         10.38          122.80     1001.0   \n",
       "1         M        20.57         17.77          132.90     1326.0   \n",
       "2         M        19.69         21.25          130.00     1203.0   \n",
       "3         M        11.42         20.38           77.58      386.1   \n",
       "4         M        20.29         14.34          135.10     1297.0   \n",
       "\n",
       "   smoothness_mean  compactness_mean  concavity_mean  concave points_mean  \\\n",
       "0          0.11840           0.27760          0.3001              0.14710   \n",
       "1          0.08474           0.07864          0.0869              0.07017   \n",
       "2          0.10960           0.15990          0.1974              0.12790   \n",
       "3          0.14250           0.28390          0.2414              0.10520   \n",
       "4          0.10030           0.13280          0.1980              0.10430   \n",
       "\n",
       "   symmetry_mean  ...  radius_worst  texture_worst  perimeter_worst  \\\n",
       "0         0.2419  ...         25.38          17.33           184.60   \n",
       "1         0.1812  ...         24.99          23.41           158.80   \n",
       "2         0.2069  ...         23.57          25.53           152.50   \n",
       "3         0.2597  ...         14.91          26.50            98.87   \n",
       "4         0.1809  ...         22.54          16.67           152.20   \n",
       "\n",
       "   area_worst  smoothness_worst  compactness_worst  concavity_worst  \\\n",
       "0      2019.0            0.1622             0.6656           0.7119   \n",
       "1      1956.0            0.1238             0.1866           0.2416   \n",
       "2      1709.0            0.1444             0.4245           0.4504   \n",
       "3       567.7            0.2098             0.8663           0.6869   \n",
       "4      1575.0            0.1374             0.2050           0.4000   \n",
       "\n",
       "   concave points_worst  symmetry_worst  fractal_dimension_worst  \n",
       "0                0.2654          0.4601                  0.11890  \n",
       "1                0.1860          0.2750                  0.08902  \n",
       "2                0.2430          0.3613                  0.08758  \n",
       "3                0.2575          0.6638                  0.17300  \n",
       "4                0.1625          0.2364                  0.07678  \n",
       "\n",
       "[5 rows x 31 columns]"
      ]
     },
     "execution_count": 62,
     "metadata": {},
     "output_type": "execute_result"
    }
   ],
   "source": [
    "df.head()"
   ]
  },
  {
   "cell_type": "code",
   "execution_count": 64,
   "id": "5aed3a1a-949f-40c7-87e3-285905893abf",
   "metadata": {},
   "outputs": [],
   "source": [
    "y = df['diagnosis']\n",
    "X = df.drop(['diagnosis'],axis=1)"
   ]
  },
  {
   "cell_type": "code",
   "execution_count": 65,
   "id": "dde7a5f3-68ea-4e4c-8601-4764519684bb",
   "metadata": {},
   "outputs": [
    {
     "data": {
      "text/html": [
       "<div>\n",
       "<style scoped>\n",
       "    .dataframe tbody tr th:only-of-type {\n",
       "        vertical-align: middle;\n",
       "    }\n",
       "\n",
       "    .dataframe tbody tr th {\n",
       "        vertical-align: top;\n",
       "    }\n",
       "\n",
       "    .dataframe thead th {\n",
       "        text-align: right;\n",
       "    }\n",
       "</style>\n",
       "<table border=\"1\" class=\"dataframe\">\n",
       "  <thead>\n",
       "    <tr style=\"text-align: right;\">\n",
       "      <th></th>\n",
       "      <th>radius_mean</th>\n",
       "      <th>texture_mean</th>\n",
       "      <th>perimeter_mean</th>\n",
       "      <th>area_mean</th>\n",
       "      <th>smoothness_mean</th>\n",
       "      <th>compactness_mean</th>\n",
       "      <th>concavity_mean</th>\n",
       "      <th>concave points_mean</th>\n",
       "      <th>symmetry_mean</th>\n",
       "      <th>fractal_dimension_mean</th>\n",
       "      <th>...</th>\n",
       "      <th>radius_worst</th>\n",
       "      <th>texture_worst</th>\n",
       "      <th>perimeter_worst</th>\n",
       "      <th>area_worst</th>\n",
       "      <th>smoothness_worst</th>\n",
       "      <th>compactness_worst</th>\n",
       "      <th>concavity_worst</th>\n",
       "      <th>concave points_worst</th>\n",
       "      <th>symmetry_worst</th>\n",
       "      <th>fractal_dimension_worst</th>\n",
       "    </tr>\n",
       "  </thead>\n",
       "  <tbody>\n",
       "    <tr>\n",
       "      <th>0</th>\n",
       "      <td>17.99</td>\n",
       "      <td>10.38</td>\n",
       "      <td>122.80</td>\n",
       "      <td>1001.0</td>\n",
       "      <td>0.11840</td>\n",
       "      <td>0.27760</td>\n",
       "      <td>0.3001</td>\n",
       "      <td>0.14710</td>\n",
       "      <td>0.2419</td>\n",
       "      <td>0.07871</td>\n",
       "      <td>...</td>\n",
       "      <td>25.38</td>\n",
       "      <td>17.33</td>\n",
       "      <td>184.60</td>\n",
       "      <td>2019.0</td>\n",
       "      <td>0.1622</td>\n",
       "      <td>0.6656</td>\n",
       "      <td>0.7119</td>\n",
       "      <td>0.2654</td>\n",
       "      <td>0.4601</td>\n",
       "      <td>0.11890</td>\n",
       "    </tr>\n",
       "    <tr>\n",
       "      <th>1</th>\n",
       "      <td>20.57</td>\n",
       "      <td>17.77</td>\n",
       "      <td>132.90</td>\n",
       "      <td>1326.0</td>\n",
       "      <td>0.08474</td>\n",
       "      <td>0.07864</td>\n",
       "      <td>0.0869</td>\n",
       "      <td>0.07017</td>\n",
       "      <td>0.1812</td>\n",
       "      <td>0.05667</td>\n",
       "      <td>...</td>\n",
       "      <td>24.99</td>\n",
       "      <td>23.41</td>\n",
       "      <td>158.80</td>\n",
       "      <td>1956.0</td>\n",
       "      <td>0.1238</td>\n",
       "      <td>0.1866</td>\n",
       "      <td>0.2416</td>\n",
       "      <td>0.1860</td>\n",
       "      <td>0.2750</td>\n",
       "      <td>0.08902</td>\n",
       "    </tr>\n",
       "    <tr>\n",
       "      <th>2</th>\n",
       "      <td>19.69</td>\n",
       "      <td>21.25</td>\n",
       "      <td>130.00</td>\n",
       "      <td>1203.0</td>\n",
       "      <td>0.10960</td>\n",
       "      <td>0.15990</td>\n",
       "      <td>0.1974</td>\n",
       "      <td>0.12790</td>\n",
       "      <td>0.2069</td>\n",
       "      <td>0.05999</td>\n",
       "      <td>...</td>\n",
       "      <td>23.57</td>\n",
       "      <td>25.53</td>\n",
       "      <td>152.50</td>\n",
       "      <td>1709.0</td>\n",
       "      <td>0.1444</td>\n",
       "      <td>0.4245</td>\n",
       "      <td>0.4504</td>\n",
       "      <td>0.2430</td>\n",
       "      <td>0.3613</td>\n",
       "      <td>0.08758</td>\n",
       "    </tr>\n",
       "    <tr>\n",
       "      <th>3</th>\n",
       "      <td>11.42</td>\n",
       "      <td>20.38</td>\n",
       "      <td>77.58</td>\n",
       "      <td>386.1</td>\n",
       "      <td>0.14250</td>\n",
       "      <td>0.28390</td>\n",
       "      <td>0.2414</td>\n",
       "      <td>0.10520</td>\n",
       "      <td>0.2597</td>\n",
       "      <td>0.09744</td>\n",
       "      <td>...</td>\n",
       "      <td>14.91</td>\n",
       "      <td>26.50</td>\n",
       "      <td>98.87</td>\n",
       "      <td>567.7</td>\n",
       "      <td>0.2098</td>\n",
       "      <td>0.8663</td>\n",
       "      <td>0.6869</td>\n",
       "      <td>0.2575</td>\n",
       "      <td>0.6638</td>\n",
       "      <td>0.17300</td>\n",
       "    </tr>\n",
       "    <tr>\n",
       "      <th>4</th>\n",
       "      <td>20.29</td>\n",
       "      <td>14.34</td>\n",
       "      <td>135.10</td>\n",
       "      <td>1297.0</td>\n",
       "      <td>0.10030</td>\n",
       "      <td>0.13280</td>\n",
       "      <td>0.1980</td>\n",
       "      <td>0.10430</td>\n",
       "      <td>0.1809</td>\n",
       "      <td>0.05883</td>\n",
       "      <td>...</td>\n",
       "      <td>22.54</td>\n",
       "      <td>16.67</td>\n",
       "      <td>152.20</td>\n",
       "      <td>1575.0</td>\n",
       "      <td>0.1374</td>\n",
       "      <td>0.2050</td>\n",
       "      <td>0.4000</td>\n",
       "      <td>0.1625</td>\n",
       "      <td>0.2364</td>\n",
       "      <td>0.07678</td>\n",
       "    </tr>\n",
       "  </tbody>\n",
       "</table>\n",
       "<p>5 rows × 30 columns</p>\n",
       "</div>"
      ],
      "text/plain": [
       "   radius_mean  texture_mean  perimeter_mean  area_mean  smoothness_mean  \\\n",
       "0        17.99         10.38          122.80     1001.0          0.11840   \n",
       "1        20.57         17.77          132.90     1326.0          0.08474   \n",
       "2        19.69         21.25          130.00     1203.0          0.10960   \n",
       "3        11.42         20.38           77.58      386.1          0.14250   \n",
       "4        20.29         14.34          135.10     1297.0          0.10030   \n",
       "\n",
       "   compactness_mean  concavity_mean  concave points_mean  symmetry_mean  \\\n",
       "0           0.27760          0.3001              0.14710         0.2419   \n",
       "1           0.07864          0.0869              0.07017         0.1812   \n",
       "2           0.15990          0.1974              0.12790         0.2069   \n",
       "3           0.28390          0.2414              0.10520         0.2597   \n",
       "4           0.13280          0.1980              0.10430         0.1809   \n",
       "\n",
       "   fractal_dimension_mean  ...  radius_worst  texture_worst  perimeter_worst  \\\n",
       "0                 0.07871  ...         25.38          17.33           184.60   \n",
       "1                 0.05667  ...         24.99          23.41           158.80   \n",
       "2                 0.05999  ...         23.57          25.53           152.50   \n",
       "3                 0.09744  ...         14.91          26.50            98.87   \n",
       "4                 0.05883  ...         22.54          16.67           152.20   \n",
       "\n",
       "   area_worst  smoothness_worst  compactness_worst  concavity_worst  \\\n",
       "0      2019.0            0.1622             0.6656           0.7119   \n",
       "1      1956.0            0.1238             0.1866           0.2416   \n",
       "2      1709.0            0.1444             0.4245           0.4504   \n",
       "3       567.7            0.2098             0.8663           0.6869   \n",
       "4      1575.0            0.1374             0.2050           0.4000   \n",
       "\n",
       "   concave points_worst  symmetry_worst  fractal_dimension_worst  \n",
       "0                0.2654          0.4601                  0.11890  \n",
       "1                0.1860          0.2750                  0.08902  \n",
       "2                0.2430          0.3613                  0.08758  \n",
       "3                0.2575          0.6638                  0.17300  \n",
       "4                0.1625          0.2364                  0.07678  \n",
       "\n",
       "[5 rows x 30 columns]"
      ]
     },
     "execution_count": 65,
     "metadata": {},
     "output_type": "execute_result"
    }
   ],
   "source": [
    "X.head()"
   ]
  },
  {
   "cell_type": "code",
   "execution_count": 68,
   "id": "cd584489-d67b-4e5b-bf2c-ffec65afa230",
   "metadata": {},
   "outputs": [
    {
     "data": {
      "text/plain": [
       "array(['M', 'B'], dtype=object)"
      ]
     },
     "execution_count": 68,
     "metadata": {},
     "output_type": "execute_result"
    }
   ],
   "source": [
    "y.unique()"
   ]
  },
  {
   "cell_type": "code",
   "execution_count": 76,
   "id": "7bbe38de-566f-4d32-bba4-ade3af11dc74",
   "metadata": {},
   "outputs": [],
   "source": [
    "X_train,X_test,y_train,y_test = train_test_split(X,y,test_size=0.2)"
   ]
  },
  {
   "cell_type": "code",
   "execution_count": 77,
   "id": "5fb94d10-b419-4869-9180-ebdf9e11d76c",
   "metadata": {},
   "outputs": [
    {
     "data": {
      "text/plain": [
       "(455, 30)"
      ]
     },
     "execution_count": 77,
     "metadata": {},
     "output_type": "execute_result"
    }
   ],
   "source": [
    "X_train.shape"
   ]
  },
  {
   "cell_type": "code",
   "execution_count": 78,
   "id": "87d7fc6d-6ee8-42d8-b15e-5b8153fdf7cd",
   "metadata": {},
   "outputs": [],
   "source": [
    "scaler = StandardScaler()\n",
    "X_train = scaler.fit_transform(X_train)\n",
    "X_test = scaler.fit_transform(X_test)"
   ]
  },
  {
   "cell_type": "code",
   "execution_count": 79,
   "id": "cdc5bf31-f640-4f96-b3b1-6a75e03952db",
   "metadata": {},
   "outputs": [
    {
     "data": {
      "text/plain": [
       "array([[-0.13341054, -0.64353448, -0.19449984, ..., -0.45867147,\n",
       "        -0.89456082, -0.22866086],\n",
       "       [-1.15011738, -0.97632545, -1.1562162 , ..., -1.38017793,\n",
       "         1.07027081, -0.23135183],\n",
       "       [-0.68717882,  0.23175136, -0.66602097, ..., -0.56252695,\n",
       "         0.4391234 , -0.24911228],\n",
       "       ...,\n",
       "       [ 0.74851673,  0.50527819,  0.77273387, ...,  1.43803336,\n",
       "         1.16113007,  0.59962174],\n",
       "       [-0.13927052,  0.92696538, -0.19534866, ..., -0.67527995,\n",
       "        -0.4143047 , -0.80560624],\n",
       "       [ 0.45844763,  0.92012721,  0.7812221 , ...,  2.00103132,\n",
       "         0.61597448,  0.93653201]])"
      ]
     },
     "execution_count": 79,
     "metadata": {},
     "output_type": "execute_result"
    }
   ],
   "source": [
    "X_train"
   ]
  },
  {
   "cell_type": "code",
   "execution_count": 86,
   "id": "f3c0d65d-a40b-4eb8-800f-91e30f7a7da3",
   "metadata": {},
   "outputs": [
    {
     "data": {
      "text/plain": [
       "51     B\n",
       "60     B\n",
       "160    B\n",
       "359    B\n",
       "191    B\n",
       "      ..\n",
       "174    B\n",
       "64     M\n",
       "24     M\n",
       "545    B\n",
       "258    M\n",
       "Name: diagnosis, Length: 455, dtype: object"
      ]
     },
     "execution_count": 86,
     "metadata": {},
     "output_type": "execute_result"
    }
   ],
   "source": [
    "y_train"
   ]
  },
  {
   "cell_type": "code",
   "execution_count": 89,
   "id": "2eb1c2d7-1c1a-4667-9ac0-8f6f39893a70",
   "metadata": {},
   "outputs": [],
   "source": [
    "# Label encoding\n",
    "encoder = LabelEncoder()\n",
    "y_train = encoder.fit_transform(y_train)\n",
    "y_test = encoder.transform(y_test)"
   ]
  },
  {
   "cell_type": "code",
   "execution_count": 90,
   "id": "2945925b-1a33-4a1f-b333-51cbfe43d226",
   "metadata": {},
   "outputs": [
    {
     "data": {
      "text/plain": [
       "array([0, 0, 0, 0, 0, 1, 0, 1, 0, 0, 0, 1, 1, 0, 1, 0, 0, 0, 1, 1, 0, 0,\n",
       "       1, 1, 0, 0, 1, 1, 0, 0, 1, 0, 0, 1, 1, 1, 0, 0, 0, 0, 1, 0, 1, 0,\n",
       "       1, 1, 1, 1, 0, 0, 0, 0, 0, 1, 1, 1, 0, 0, 0, 0, 1, 1, 0, 1, 0, 0,\n",
       "       1, 0, 0, 0, 1, 0, 0, 0, 0, 1, 0, 0, 0, 0, 0, 1, 0, 1, 0, 1, 0, 0,\n",
       "       0, 0, 0, 1, 0, 1, 0, 0, 0, 1, 1, 1, 1, 1, 1, 0, 0, 0, 0, 0, 0, 0,\n",
       "       0, 0, 0, 0, 1, 1, 0, 1, 1, 0, 1, 0, 0, 0, 0, 1, 0, 0, 0, 0, 1, 1,\n",
       "       1, 0, 0, 0, 0, 1, 1, 0, 0, 0, 1, 1, 0, 0, 0, 0, 0, 0, 0, 1, 0, 0,\n",
       "       0, 0, 0, 1, 1, 1, 1, 0, 0, 0, 1, 0, 0, 0, 0, 0, 1, 0, 1, 0, 0, 0,\n",
       "       1, 0, 0, 0, 0, 0, 0, 0, 0, 0, 0, 0, 0, 0, 1, 0, 1, 0, 0, 0, 0, 0,\n",
       "       0, 1, 0, 1, 1, 1, 0, 1, 0, 1, 0, 1, 0, 0, 0, 0, 1, 0, 0, 0, 0, 1,\n",
       "       1, 1, 0, 0, 1, 1, 0, 0, 0, 1, 1, 1, 1, 0, 0, 0, 0, 1, 1, 0, 0, 1,\n",
       "       0, 1, 1, 0, 0, 0, 1, 0, 1, 1, 0, 0, 1, 0, 0, 0, 0, 1, 1, 0, 0, 0,\n",
       "       0, 0, 0, 0, 1, 0, 1, 1, 1, 1, 1, 0, 0, 0, 1, 1, 1, 0, 0, 0, 0, 0,\n",
       "       0, 1, 1, 0, 0, 0, 1, 0, 0, 0, 0, 0, 1, 0, 0, 1, 1, 1, 1, 1, 0, 0,\n",
       "       0, 0, 1, 1, 0, 0, 0, 0, 1, 0, 0, 1, 0, 1, 0, 0, 0, 0, 1, 1, 0, 0,\n",
       "       0, 0, 1, 0, 0, 0, 1, 0, 0, 1, 1, 0, 1, 0, 0, 0, 1, 0, 0, 0, 0, 0,\n",
       "       1, 1, 1, 1, 0, 1, 0, 1, 1, 1, 0, 1, 0, 1, 0, 0, 1, 1, 0, 0, 1, 0,\n",
       "       1, 0, 0, 0, 0, 0, 1, 0, 1, 0, 1, 0, 1, 0, 0, 1, 1, 0, 1, 0, 0, 1,\n",
       "       0, 0, 0, 0, 0, 0, 0, 0, 1, 1, 0, 1, 1, 1, 0, 0, 0, 1, 0, 0, 0, 0,\n",
       "       1, 1, 0, 1, 0, 1, 0, 1, 0, 0, 0, 0, 0, 0, 0, 0, 1, 0, 1, 1, 1, 0,\n",
       "       0, 1, 0, 1, 1, 1, 0, 0, 1, 0, 0, 1, 1, 0, 1])"
      ]
     },
     "execution_count": 90,
     "metadata": {},
     "output_type": "execute_result"
    }
   ],
   "source": [
    "y_train"
   ]
  },
  {
   "cell_type": "markdown",
   "id": "2637acb1-ef29-4a43-bcf2-c1fb92b14027",
   "metadata": {},
   "source": [
    "Encoder encoded the Benign - B - 0, and Malignant - M - 1"
   ]
  },
  {
   "cell_type": "markdown",
   "id": "e26bb435-41ef-442a-ad42-467d4f03566a",
   "metadata": {},
   "source": [
    "This is all good but we need to convert these numpy arrays to` torch.tensor ` to be able to use PyTorch module content"
   ]
  },
  {
   "cell_type": "code",
   "execution_count": 92,
   "id": "0558abbb-a0e9-4880-902e-fd2755465735",
   "metadata": {},
   "outputs": [],
   "source": [
    "XtrainTensor = torch.from_numpy(X_train)\n",
    "ytrainTensor = torch.from_numpy(y_train)\n",
    "XtestTensor = torch.from_numpy(X_test)\n",
    "ytestTensor = torch.from_numpy(y_test)"
   ]
  },
  {
   "cell_type": "code",
   "execution_count": 94,
   "id": "10d3e8be-18cf-41de-9fae-ce03c3dbff9c",
   "metadata": {},
   "outputs": [
    {
     "data": {
      "text/plain": [
       "torch.Size([455, 30])"
      ]
     },
     "execution_count": 94,
     "metadata": {},
     "output_type": "execute_result"
    }
   ],
   "source": [
    "XtrainTensor.shape"
   ]
  },
  {
   "cell_type": "code",
   "execution_count": 95,
   "id": "c4f0916b-ce38-4cfc-998e-212bfc0e55d5",
   "metadata": {},
   "outputs": [
    {
     "data": {
      "text/plain": [
       "torch.Size([455])"
      ]
     },
     "execution_count": 95,
     "metadata": {},
     "output_type": "execute_result"
    }
   ],
   "source": [
    "ytrainTensor.shape"
   ]
  },
  {
   "cell_type": "code",
   "execution_count": 96,
   "id": "3266553a-821c-4b94-96bb-ef0da6a569e6",
   "metadata": {},
   "outputs": [],
   "source": [
    "class mySimpleNN():\n",
    "    def __init__(self,X):\n",
    "        # we have only a single neuron\n",
    "        self.weights = torch.rand(X.shape[1] , 1, dtype = torch.float64 , requires_grad = True)\n",
    "        self.bias = torch.zeros(1, dtype=torch.float64, requires_grad = True)\n",
    "    def forward(self,X):\n",
    "        z = torch.matmul(X, self.weights) + self.bias\n",
    "        yPred = torch.sigmoid(z)\n",
    "        return yPred\n",
    "    def lossFxn(self,yPred,yTrue):\n",
    "        eps = 1e-7\n",
    "        yPred = torch.clamp(yPred,eps,1-eps)\n",
    "        loss = - (yTrue*torch.log(yPred) + (1-yTrue)*torch.log(1 - yPred)).mean()\n",
    "        return loss"
   ]
  },
  {
   "cell_type": "code",
   "execution_count": 97,
   "id": "f01bf3bd-b18b-42ec-b55d-a5052658be6e",
   "metadata": {},
   "outputs": [],
   "source": [
    "learningRate = 0.1\n",
    "epochs = 100"
   ]
  },
  {
   "cell_type": "code",
   "execution_count": 103,
   "id": "29781eef-3c5c-4cd4-bb93-0ec158d78caa",
   "metadata": {},
   "outputs": [
    {
     "name": "stdout",
     "output_type": "stream",
     "text": [
      "Epoch: 1, Loss: 3.212450553346107\n",
      "Epoch: 2, Loss: 3.068270760872656\n",
      "Epoch: 3, Loss: 2.917758160682782\n",
      "Epoch: 4, Loss: 2.761509226234056\n",
      "Epoch: 5, Loss: 2.604707286983753\n",
      "Epoch: 6, Loss: 2.4446497355328027\n",
      "Epoch: 7, Loss: 2.2832202523405556\n",
      "Epoch: 8, Loss: 2.126234777592126\n",
      "Epoch: 9, Loss: 1.9708529359711986\n",
      "Epoch: 10, Loss: 1.8168921684773298\n",
      "Epoch: 11, Loss: 1.6671739560618632\n",
      "Epoch: 12, Loss: 1.5280989816088222\n",
      "Epoch: 13, Loss: 1.4000813377012533\n",
      "Epoch: 14, Loss: 1.2827569366545863\n",
      "Epoch: 15, Loss: 1.180842037090071\n",
      "Epoch: 16, Loss: 1.0952110763072234\n",
      "Epoch: 17, Loss: 1.025861826573251\n",
      "Epoch: 18, Loss: 0.9716803155778441\n",
      "Epoch: 19, Loss: 0.9305315340932023\n",
      "Epoch: 20, Loss: 0.8996933549511851\n",
      "Epoch: 21, Loss: 0.8764207722367524\n",
      "Epoch: 22, Loss: 0.8583824394741136\n",
      "Epoch: 23, Loss: 0.8438484591583686\n",
      "Epoch: 24, Loss: 0.8316559411350211\n",
      "Epoch: 25, Loss: 0.8210686093986215\n",
      "Epoch: 26, Loss: 0.811632669816867\n",
      "Epoch: 27, Loss: 0.8030691994653479\n",
      "Epoch: 28, Loss: 0.7952040738433606\n",
      "Epoch: 29, Loss: 0.7879251282819715\n",
      "Epoch: 30, Loss: 0.7811567329013027\n",
      "Epoch: 31, Loss: 0.7748449145544078\n",
      "Epoch: 32, Loss: 0.7689487094610978\n",
      "Epoch: 33, Loss: 0.7634351512691009\n",
      "Epoch: 34, Loss: 0.7582763657037641\n",
      "Epoch: 35, Loss: 0.7534478806928118\n",
      "Epoch: 36, Loss: 0.7489276359391497\n",
      "Epoch: 37, Loss: 0.7446953945294005\n",
      "Epoch: 38, Loss: 0.7407323857913068\n",
      "Epoch: 39, Loss: 0.7370210815785515\n",
      "Epoch: 40, Loss: 0.7335450500121424\n",
      "Epoch: 41, Loss: 0.7302888546162477\n",
      "Epoch: 42, Loss: 0.7272379804060763\n",
      "Epoch: 43, Loss: 0.7243787762363262\n",
      "Epoch: 44, Loss: 0.7216984071382491\n",
      "Epoch: 45, Loss: 0.719184812908899\n",
      "Epoch: 46, Loss: 0.7168266706879706\n",
      "Epoch: 47, Loss: 0.7146133601280252\n",
      "Epoch: 48, Loss: 0.7125349302919033\n",
      "Epoch: 49, Loss: 0.7105820677414558\n",
      "Epoch: 50, Loss: 0.7087460654951797\n",
      "Epoch: 51, Loss: 0.7070187926741794\n",
      "Epoch: 52, Loss: 0.7053926647518124\n",
      "Epoch: 53, Loss: 0.7038606143873679\n",
      "Epoch: 54, Loss: 0.7024160628672339\n",
      "Epoch: 55, Loss: 0.7010528922040717\n",
      "Epoch: 56, Loss: 0.6997654179595849\n",
      "Epoch: 57, Loss: 0.6985483628624755\n",
      "Epoch: 58, Loss: 0.6973968312925029\n",
      "Epoch: 59, Loss: 0.6963062846960256\n",
      "Epoch: 60, Loss: 0.6952725179895801\n",
      "Epoch: 61, Loss: 0.6942916369971691\n",
      "Epoch: 62, Loss: 0.6933600369549993\n",
      "Epoch: 63, Loss: 0.692474382105219\n",
      "Epoch: 64, Loss: 0.6916315863883613\n",
      "Epoch: 65, Loss: 0.6908287952331023\n",
      "Epoch: 66, Loss: 0.6900633684319352\n",
      "Epoch: 67, Loss: 0.6893328640825678\n",
      "Epoch: 68, Loss: 0.6886350235673737\n",
      "Epoch: 69, Loss: 0.6879677575370866\n",
      "Epoch: 70, Loss: 0.687329132860053\n",
      "Epoch: 71, Loss: 0.6867173604946826\n",
      "Epoch: 72, Loss: 0.6861307842401593\n",
      "Epoch: 73, Loss: 0.6855678703188511\n",
      "Epoch: 74, Loss: 0.6850271977430836\n",
      "Epoch: 75, Loss: 0.6845074494188885\n",
      "Epoch: 76, Loss: 0.6840074039398694\n",
      "Epoch: 77, Loss: 0.68352592802535\n",
      "Epoch: 78, Loss: 0.6830619695583753\n",
      "Epoch: 79, Loss: 0.6826145511808309\n",
      "Epoch: 80, Loss: 0.6821827644048497\n",
      "Epoch: 81, Loss: 0.6817657642017392\n",
      "Epoch: 82, Loss: 0.6813627640317901\n",
      "Epoch: 83, Loss: 0.6809730312805201\n",
      "Epoch: 84, Loss: 0.6805958830690803\n",
      "Epoch: 85, Loss: 0.6802306824087069\n",
      "Epoch: 86, Loss: 0.6798768346711997\n",
      "Epoch: 87, Loss: 0.6795337843494308\n",
      "Epoch: 88, Loss: 0.6792010120838239\n",
      "Epoch: 89, Loss: 0.6788780319325958\n",
      "Epoch: 90, Loss: 0.6785643888652826\n",
      "Epoch: 91, Loss: 0.678259656460719\n",
      "Epoch: 92, Loss: 0.677963434792167\n",
      "Epoch: 93, Loss: 0.6776753484837225\n",
      "Epoch: 94, Loss: 0.6773950449234521\n",
      "Epoch: 95, Loss: 0.6771221926199448\n",
      "Epoch: 96, Loss: 0.6768564796900959\n",
      "Epoch: 97, Loss: 0.6765976124669908\n",
      "Epoch: 98, Loss: 0.6763453142177132\n",
      "Epoch: 99, Loss: 0.6760993239617887\n",
      "Epoch: 100, Loss: 0.6758593953817871\n"
     ]
    }
   ],
   "source": [
    "model = mySimpleNN(XtrainTensor)\n",
    "lossList = []\n",
    "for epoch in range(epochs):\n",
    "    yPred = model.forward(XtrainTensor)\n",
    "    loss = model.lossFxn(yPred , ytrainTensor)\n",
    "    loss.backward()\n",
    "    with torch.no_grad():\n",
    "        model.weights -= learningRate*model.weights.grad\n",
    "        model.bias -= learningRate*model.bias.grad\n",
    "    model.weights.grad.zero_()\n",
    "    model.bias.grad.zero_()\n",
    "    lossList.append(float(loss))\n",
    "    print(f'Epoch: {epoch + 1}, Loss: {loss.item()}')"
   ]
  },
  {
   "cell_type": "code",
   "execution_count": 106,
   "id": "cfd69dfe-1981-48c9-9464-7d1fdae8bc35",
   "metadata": {},
   "outputs": [
    {
     "data": {
      "text/plain": [
       "[<matplotlib.lines.Line2D at 0x7ae9f53f9700>]"
      ]
     },
     "execution_count": 106,
     "metadata": {},
     "output_type": "execute_result"
    },
    {
     "data": {
      "image/png": "[encoded data removed]",
      "text/plain": [
       "<Figure size 640x480 with 1 Axes>"
      ]
     },
     "metadata": {},
     "output_type": "display_data"
    }
   ],
   "source": [
    "import matplotlib.pyplot as plt\n",
    "plt.grid(True)\n",
    "plt.plot(range(epochs), lossList)"
   ]
  },
  {
   "cell_type": "code",
   "execution_count": 107,
   "id": "badde8a0-f363-461a-9674-d536f71e3239",
   "metadata": {},
   "outputs": [
    {
     "data": {
      "text/plain": [
       "tensor([-0.4819], dtype=torch.float64, requires_grad=True)"
      ]
     },
     "execution_count": 107,
     "metadata": {},
     "output_type": "execute_result"
    }
   ],
   "source": [
    "model.bias"
   ]
  },
  {
   "cell_type": "code",
   "execution_count": 108,
   "id": "b6c9db75-d554-4be0-9b0c-1b1dda4c5785",
   "metadata": {},
   "outputs": [
    {
     "name": "stdout",
     "output_type": "stream",
     "text": [
      "Accuracy = 0.6206524968147278\n"
     ]
    }
   ],
   "source": [
    "with torch.no_grad():\n",
    "    yPred = model.forward(XtestTensor)\n",
    "    yPred = (yPred > 0.8).float()\n",
    "    accuracy = (yPred == ytestTensor).float().mean()\n",
    "    print(f'Accuracy = {accuracy}')"
   ]
  },
  {
   "cell_type": "code",
   "execution_count": null,
   "id": "5c9dad21-1b47-44ba-8bbb-6e139a88d123",
   "metadata": {},
   "outputs": [],
   "source": []
  }
 ],
 "metadata": {
  "kernelspec": {
   "display_name": "Python 3 (ipykernel)",
   "language": "python",
   "name": "python3"
  },
  "language_info": {
   "codemirror_mode": {
    "name": "ipython",
    "version": 3
   },
   "file_extension": ".py",
   "mimetype": "text/x-python",
   "name": "python",
   "nbconvert_exporter": "python",
   "pygments_lexer": "ipython3",
   "version": "3.12.7"
  }
 },
 "nbformat": 4,
 "nbformat_minor": 5
}
