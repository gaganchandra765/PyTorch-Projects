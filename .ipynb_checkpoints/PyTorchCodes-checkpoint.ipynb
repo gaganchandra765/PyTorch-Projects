{
 "cells": [
  {
   "cell_type": "code",
   "execution_count": 193,
   "id": "9ddad149-7825-47a1-81a3-41b3610a38d2",
   "metadata": {},
   "outputs": [
    {
     "name": "stdout",
     "output_type": "stream",
     "text": [
      "PyTorch for Deep Learning\n"
     ]
    }
   ],
   "source": [
    "print(\"PyTorch for Deep Learning\")"
   ]
  },
  {
   "cell_type": "code",
   "execution_count": 194,
   "id": "8ccf1d7c-7e3f-41c7-8b50-ad6236d2820e",
   "metadata": {},
   "outputs": [
    {
     "name": "stdout",
     "output_type": "stream",
     "text": [
      "Wed May  7 17:23:12 2025       \n",
      "+-----------------------------------------------------------------------------------------+\n",
      "| NVIDIA-SMI 550.120                Driver Version: 550.120        CUDA Version: 12.4     |\n",
      "|-----------------------------------------+------------------------+----------------------+\n",
      "| GPU  Name                 Persistence-M | Bus-Id          Disp.A | Volatile Uncorr. ECC |\n",
      "| Fan  Temp   Perf          Pwr:Usage/Cap |           Memory-Usage | GPU-Util  Compute M. |\n",
      "|                                         |                        |               MIG M. |\n",
      "|=========================================+========================+======================|\n",
      "|   0  NVIDIA GeForce RTX 4090 ...    Off |   00000000:01:00.0 Off |                  N/A |\n",
      "| N/A   45C    P0            588W /   50W |      10MiB /  16376MiB |      0%      Default |\n",
      "|                                         |                        |                  N/A |\n",
      "+-----------------------------------------+------------------------+----------------------+\n",
      "                                                                                         \n",
      "+-----------------------------------------------------------------------------------------+\n",
      "| Processes:                                                                              |\n",
      "|  GPU   GI   CI        PID   Type   Process name                              GPU Memory |\n",
      "|        ID   ID                                                               Usage      |\n",
      "|=========================================================================================|\n",
      "|    0   N/A  N/A      2675      G   /usr/lib/xorg/Xorg                              4MiB |\n",
      "+-----------------------------------------------------------------------------------------+\n"
     ]
    }
   ],
   "source": [
    "!nvidia-smi"
   ]
  },
  {
   "cell_type": "code",
   "execution_count": 195,
   "id": "430bb813-2c0d-4817-b173-1771de2e056f",
   "metadata": {},
   "outputs": [
    {
     "name": "stdout",
     "output_type": "stream",
     "text": [
      "2.7.0+cu126\n"
     ]
    }
   ],
   "source": [
    "import numpy as np\n",
    "import matplotlib.pyplot as plt\n",
    "import pandas as pd\n",
    "import torch\n",
    "print(torch.__version__)"
   ]
  },
  {
   "cell_type": "markdown",
   "id": "4ffe3d3c-f66e-43d3-84ec-625ec4ebe1a0",
   "metadata": {
    "jp-MarkdownHeadingCollapsed": true
   },
   "source": [
    "# Introduction to tensors"
   ]
  },
  {
   "cell_type": "markdown",
   "id": "3c4e35cb-041f-40f6-90f5-a321c683fda9",
   "metadata": {},
   "source": [
    "## Creating Tensors\n",
    "\n",
    "Created using torch.tensor()"
   ]
  },
  {
   "cell_type": "code",
   "execution_count": 196,
   "id": "51a99ea0-605f-46ed-b430-8de9b0b086f8",
   "metadata": {},
   "outputs": [],
   "source": [
    "# scalar \n",
    "scalar = torch.tensor(7)"
   ]
  },
  {
   "cell_type": "code",
   "execution_count": 197,
   "id": "6bfa5be0-1269-4889-b776-67cdbab2da49",
   "metadata": {},
   "outputs": [
    {
     "data": {
      "text/plain": [
       "tensor(7)"
      ]
     },
     "execution_count": 197,
     "metadata": {},
     "output_type": "execute_result"
    }
   ],
   "source": [
    "scalar"
   ]
  },
  {
   "cell_type": "code",
   "execution_count": 198,
   "id": "07b4538d-c81f-43e4-bf6c-c9d883f59f4a",
   "metadata": {},
   "outputs": [
    {
     "data": {
      "text/plain": [
       "0"
      ]
     },
     "execution_count": 198,
     "metadata": {},
     "output_type": "execute_result"
    }
   ],
   "source": [
    "scalar.ndim"
   ]
  },
  {
   "cell_type": "code",
   "execution_count": 199,
   "id": "32d675ae-d6ef-45bb-9c1e-53d865e78eeb",
   "metadata": {},
   "outputs": [
    {
     "data": {
      "text/plain": [
       "7"
      ]
     },
     "execution_count": 199,
     "metadata": {},
     "output_type": "execute_result"
    }
   ],
   "source": [
    "scalar.item()"
   ]
  },
  {
   "cell_type": "code",
   "execution_count": 200,
   "id": "2ba484c1-2161-41d8-a1cf-84324ae1b655",
   "metadata": {},
   "outputs": [
    {
     "data": {
      "text/plain": [
       "tensor([7, 3])"
      ]
     },
     "execution_count": 200,
     "metadata": {},
     "output_type": "execute_result"
    }
   ],
   "source": [
    "vector = torch.tensor([7,3])\n",
    "vector"
   ]
  },
  {
   "cell_type": "code",
   "execution_count": 201,
   "id": "4cad8b01-c688-4b4d-b8ab-2b3bfae55085",
   "metadata": {},
   "outputs": [
    {
     "data": {
      "text/plain": [
       "1"
      ]
     },
     "execution_count": 201,
     "metadata": {},
     "output_type": "execute_result"
    }
   ],
   "source": [
    "vector.ndim"
   ]
  },
  {
   "cell_type": "code",
   "execution_count": 202,
   "id": "a218dd73-f7ca-4422-90bb-5d5dff54ed2d",
   "metadata": {},
   "outputs": [
    {
     "data": {
      "text/plain": [
       "torch.Size([2])"
      ]
     },
     "execution_count": 202,
     "metadata": {},
     "output_type": "execute_result"
    }
   ],
   "source": [
    "vector.shape"
   ]
  },
  {
   "cell_type": "code",
   "execution_count": 203,
   "id": "28605549-c48d-43bb-bd84-fbb4b26b5be1",
   "metadata": {},
   "outputs": [
    {
     "data": {
      "text/plain": [
       "torch.Size([3])"
      ]
     },
     "execution_count": 203,
     "metadata": {},
     "output_type": "execute_result"
    }
   ],
   "source": [
    "vector2 = torch.tensor([2,1,3])\n",
    "vector2.shape"
   ]
  },
  {
   "cell_type": "code",
   "execution_count": 204,
   "id": "b1b8234c-d796-463f-9072-6c4ad6c5ab64",
   "metadata": {},
   "outputs": [
    {
     "data": {
      "text/plain": [
       "1"
      ]
     },
     "execution_count": 204,
     "metadata": {},
     "output_type": "execute_result"
    }
   ],
   "source": [
    "vector2.ndim"
   ]
  },
  {
   "cell_type": "code",
   "execution_count": 205,
   "id": "442d7184-a7c1-4166-9f41-fe6a06674273",
   "metadata": {},
   "outputs": [
    {
     "data": {
      "text/plain": [
       "tensor([2, 1, 3])"
      ]
     },
     "execution_count": 205,
     "metadata": {},
     "output_type": "execute_result"
    }
   ],
   "source": [
    "vector2"
   ]
  },
  {
   "cell_type": "code",
   "execution_count": 206,
   "id": "f6bda732-487d-4cf4-b6ec-ff37adcd55a9",
   "metadata": {},
   "outputs": [
    {
     "data": {
      "text/plain": [
       "torch.Size([2, 3])"
      ]
     },
     "execution_count": 206,
     "metadata": {},
     "output_type": "execute_result"
    }
   ],
   "source": [
    "matrix1 = torch.tensor([[1,2,3],\n",
    "                       [2,1,2]])\n",
    "matrix1.shape"
   ]
  },
  {
   "cell_type": "code",
   "execution_count": 207,
   "id": "74872599-3c12-4588-ad2a-ad95e8c91e4c",
   "metadata": {},
   "outputs": [
    {
     "data": {
      "text/plain": [
       "2"
      ]
     },
     "execution_count": 207,
     "metadata": {},
     "output_type": "execute_result"
    }
   ],
   "source": [
    "matrix1.ndim"
   ]
  },
  {
   "cell_type": "code",
   "execution_count": 208,
   "id": "dd919bff-636c-4220-b1aa-8d6962807313",
   "metadata": {},
   "outputs": [
    {
     "data": {
      "text/plain": [
       "tensor([2, 1, 2])"
      ]
     },
     "execution_count": 208,
     "metadata": {},
     "output_type": "execute_result"
    }
   ],
   "source": [
    "matrix1[1]"
   ]
  },
  {
   "cell_type": "code",
   "execution_count": 209,
   "id": "b7985896-e8c6-49f5-86a2-317454856f11",
   "metadata": {},
   "outputs": [
    {
     "data": {
      "text/plain": [
       "torch.Size([3])"
      ]
     },
     "execution_count": 209,
     "metadata": {},
     "output_type": "execute_result"
    }
   ],
   "source": [
    "matrix1[-1].shape"
   ]
  },
  {
   "cell_type": "code",
   "execution_count": 210,
   "id": "985f1375-14bd-4aed-b4db-ad093ed5865d",
   "metadata": {},
   "outputs": [
    {
     "data": {
      "text/plain": [
       "tensor(3)"
      ]
     },
     "execution_count": 210,
     "metadata": {},
     "output_type": "execute_result"
    }
   ],
   "source": [
    "vector2[2]"
   ]
  },
  {
   "cell_type": "code",
   "execution_count": 211,
   "id": "248ecfe7-0f8f-43a9-9c22-c21560c48927",
   "metadata": {},
   "outputs": [],
   "source": [
    "ten = torch.tensor([[[[1,2,3],\n",
    "                   [3,4,5],\n",
    "                   [3,0,6],\n",
    "                    [1,2,6]]]])"
   ]
  },
  {
   "cell_type": "code",
   "execution_count": 212,
   "id": "7be7b230-aae2-4ad8-9d54-1dfbc9a9c111",
   "metadata": {},
   "outputs": [
    {
     "data": {
      "text/plain": [
       "4"
      ]
     },
     "execution_count": 212,
     "metadata": {},
     "output_type": "execute_result"
    }
   ],
   "source": [
    "ten.ndim"
   ]
  },
  {
   "cell_type": "code",
   "execution_count": 213,
   "id": "61a07608-59ce-4e1a-a9f4-f43fa7444904",
   "metadata": {},
   "outputs": [
    {
     "data": {
      "text/plain": [
       "torch.Size([1, 1, 4, 3])"
      ]
     },
     "execution_count": 213,
     "metadata": {},
     "output_type": "execute_result"
    }
   ],
   "source": [
    "ten.shape"
   ]
  },
  {
   "cell_type": "code",
   "execution_count": 214,
   "id": "5ab7ce7c-32f0-4e7b-a4e5-34be55b18363",
   "metadata": {},
   "outputs": [
    {
     "data": {
      "text/plain": [
       "tensor([3, 0, 6])"
      ]
     },
     "execution_count": 214,
     "metadata": {},
     "output_type": "execute_result"
    }
   ],
   "source": [
    "ten[0,0,2]"
   ]
  },
  {
   "cell_type": "markdown",
   "id": "c08a74ef-d155-43b2-8e56-db45d50c8605",
   "metadata": {},
   "source": [
    "Tensors are a bit tough to wrap your mind around "
   ]
  },
  {
   "cell_type": "markdown",
   "id": "58988c24-db53-4f4d-92a1-0f18aa3749d3",
   "metadata": {},
   "source": [
    "## Random Tensors"
   ]
  },
  {
   "cell_type": "code",
   "execution_count": 215,
   "id": "5119906e-4f08-4dca-a62e-08792acdc219",
   "metadata": {},
   "outputs": [
    {
     "data": {
      "text/plain": [
       "tensor([[0.0125, 0.2581, 0.3474, 0.7721],\n",
       "        [0.8703, 0.1565, 0.1053, 0.5446],\n",
       "        [0.0012, 0.0367, 0.9934, 0.0659]])"
      ]
     },
     "execution_count": 215,
     "metadata": {},
     "output_type": "execute_result"
    }
   ],
   "source": [
    "#  creating random tensors\n",
    "randomTensor = torch.rand(3,4)\n",
    "randomTensor"
   ]
  },
  {
   "cell_type": "code",
   "execution_count": 216,
   "id": "bedb0d4c-c692-4eb4-8702-2e49c5386ab0",
   "metadata": {},
   "outputs": [
    {
     "data": {
      "text/plain": [
       "2"
      ]
     },
     "execution_count": 216,
     "metadata": {},
     "output_type": "execute_result"
    }
   ],
   "source": [
    "randomTensor.ndim"
   ]
  },
  {
   "cell_type": "code",
   "execution_count": 217,
   "id": "6fdaa3de-55e0-45fe-b123-0a83ba6276b2",
   "metadata": {},
   "outputs": [
    {
     "data": {
      "text/plain": [
       "3"
      ]
     },
     "execution_count": 217,
     "metadata": {},
     "output_type": "execute_result"
    }
   ],
   "source": [
    "imageDataTensor=torch.rand(size=(224,224,3))\n",
    "imageDataTensor.ndim"
   ]
  },
  {
   "cell_type": "code",
   "execution_count": 218,
   "id": "13280cb9-48f9-46a9-901a-712d5a447dde",
   "metadata": {},
   "outputs": [],
   "source": [
    "ones=torch.ones(2,4)\n",
    "zeros = torch.zeros(size=(2,4))"
   ]
  },
  {
   "cell_type": "code",
   "execution_count": 219,
   "id": "fed548f3-a245-45a7-9ff0-a47eb7fdd894",
   "metadata": {},
   "outputs": [
    {
     "data": {
      "text/plain": [
       "tensor([[0., 0., 0., 0.],\n",
       "        [0., 0., 0., 0.]])"
      ]
     },
     "execution_count": 219,
     "metadata": {},
     "output_type": "execute_result"
    }
   ],
   "source": [
    "zeros"
   ]
  },
  {
   "cell_type": "code",
   "execution_count": 220,
   "id": "0acf1af8-9940-46d5-8ff4-8b7f0b588295",
   "metadata": {},
   "outputs": [
    {
     "data": {
      "text/plain": [
       "torch.float32"
      ]
     },
     "execution_count": 220,
     "metadata": {},
     "output_type": "execute_result"
    }
   ],
   "source": [
    "zeros.dtype"
   ]
  },
  {
   "cell_type": "code",
   "execution_count": 221,
   "id": "9a7198d1-1d87-4dc3-8767-f6419b18c880",
   "metadata": {},
   "outputs": [
    {
     "data": {
      "text/plain": [
       "tensor([[1., 1., 1., 1.],\n",
       "        [1., 1., 1., 1.]])"
      ]
     },
     "execution_count": 221,
     "metadata": {},
     "output_type": "execute_result"
    }
   ],
   "source": [
    "ones"
   ]
  },
  {
   "cell_type": "code",
   "execution_count": 222,
   "id": "45f60d09-60b5-490e-9e23-999d93206276",
   "metadata": {},
   "outputs": [
    {
     "data": {
      "text/plain": [
       "tensor([0, 1, 2, 3, 4, 5, 6, 7, 8, 9])"
      ]
     },
     "execution_count": 222,
     "metadata": {},
     "output_type": "execute_result"
    }
   ],
   "source": [
    "tillNineSequ = torch.arange(0,10)\n",
    "tillNineSequ"
   ]
  },
  {
   "cell_type": "markdown",
   "id": "ffd5e3f3-da0b-4273-acc6-3988284b8d87",
   "metadata": {},
   "source": [
    "`torch.zeros_like` is an interesting fucntion"
   ]
  },
  {
   "cell_type": "code",
   "execution_count": 223,
   "id": "fae75b9e-ed8b-4152-83c1-cee6ac7ad3a2",
   "metadata": {},
   "outputs": [
    {
     "data": {
      "text/plain": [
       "tensor([1, 1, 1, 1, 1, 1, 1, 1, 1, 1])"
      ]
     },
     "execution_count": 223,
     "metadata": {},
     "output_type": "execute_result"
    }
   ],
   "source": [
    "emptySimilarSequ = torch.zeros_like(tillNineSequ)\n",
    "emptySimilarSequ\n",
    "onesSimilarSequ = torch.ones_like(tillNineSequ)\n",
    "onesSimilarSequ"
   ]
  },
  {
   "cell_type": "markdown",
   "id": "7ad0e6ae-b278-4e79-8bed-0f480fe9d811",
   "metadata": {},
   "source": [
    "Playing with datatypes -> dtype = , argument"
   ]
  },
  {
   "cell_type": "code",
   "execution_count": 224,
   "id": "a76d0985-f49e-415d-a57c-c2b1ecf0cfb1",
   "metadata": {},
   "outputs": [
    {
     "data": {
      "text/plain": [
       "torch.int64"
      ]
     },
     "execution_count": 224,
     "metadata": {},
     "output_type": "execute_result"
    }
   ],
   "source": [
    "newTensor = torch.tensor([3,6,9])\n",
    "newTensor.dtype"
   ]
  },
  {
   "cell_type": "markdown",
   "id": "2ba926fc-e545-4cad-9124-3353f9ecc9be",
   "metadata": {},
   "source": [
    "### Tensor creation has some arguments like device and require_grad\n",
    "\n",
    "device must be the same for 2 tensors for them be involved with each other in an operation\n",
    "and, require_grad -> if the tensors values will requires gradient calculation in the future or not\n"
   ]
  },
  {
   "cell_type": "code",
   "execution_count": 225,
   "id": "22240f42-8311-4e53-a95f-bc717a27794d",
   "metadata": {},
   "outputs": [
    {
     "data": {
      "text/plain": [
       "torch.Size([2, 3])"
      ]
     },
     "execution_count": 225,
     "metadata": {},
     "output_type": "execute_result"
    }
   ],
   "source": [
    "newRandTensor = torch.randint(low=0,high=10,size=(2,3))\n",
    "newRandTensor\n",
    "newRandTensor.shape"
   ]
  },
  {
   "cell_type": "markdown",
   "id": "2b86fb81-047c-4eca-b774-fedb9e935bd0",
   "metadata": {},
   "source": [
    "## Manipulating Tensors , Tensor operations\n",
    "\n",
    "1. Addition\n",
    "2. Subtraction\n",
    "3. Multiplication - elt wise\n",
    "4. Division\n",
    "5. Matrix Multiplicatiom"
   ]
  },
  {
   "cell_type": "code",
   "execution_count": 226,
   "id": "77c57bce-b313-4c27-91ca-7863be95d1c6",
   "metadata": {},
   "outputs": [
    {
     "data": {
      "text/plain": [
       "torch.Size([3])"
      ]
     },
     "execution_count": 226,
     "metadata": {},
     "output_type": "execute_result"
    }
   ],
   "source": [
    "tensor = torch.tensor([1,2,3])\n",
    "tensor +10\n",
    "tensor.shape"
   ]
  },
  {
   "cell_type": "code",
   "execution_count": 227,
   "id": "9cf51c6f-9e2e-4f2e-939e-411a97b2df8e",
   "metadata": {},
   "outputs": [
    {
     "data": {
      "text/plain": [
       "tensor([10, 20, 30])"
      ]
     },
     "execution_count": 227,
     "metadata": {},
     "output_type": "execute_result"
    }
   ],
   "source": [
    "tensor*10"
   ]
  },
  {
   "cell_type": "code",
   "execution_count": 228,
   "id": "c0734362-9057-47c1-80b9-3fd107f58e49",
   "metadata": {},
   "outputs": [
    {
     "data": {
      "text/plain": [
       "tensor([0.1000, 0.2000, 0.3000])"
      ]
     },
     "execution_count": 228,
     "metadata": {},
     "output_type": "execute_result"
    }
   ],
   "source": [
    "tensor/10"
   ]
  },
  {
   "cell_type": "code",
   "execution_count": 229,
   "id": "13275366-18bf-4175-8adb-a102636e70a3",
   "metadata": {},
   "outputs": [
    {
     "data": {
      "text/plain": [
       "tensor([-9, -8, -7])"
      ]
     },
     "execution_count": 229,
     "metadata": {},
     "output_type": "execute_result"
    }
   ],
   "source": [
    "tensor-10"
   ]
  },
  {
   "cell_type": "markdown",
   "id": "76e0d62d-1309-4201-84dc-06e63c3e5496",
   "metadata": {},
   "source": [
    "### Inbuilt fxns exist like `torch.add(tensor,10)` etc..."
   ]
  },
  {
   "cell_type": "code",
   "execution_count": 230,
   "id": "43d9ea13-8083-4c55-a2ff-32941133ae6b",
   "metadata": {},
   "outputs": [
    {
     "data": {
      "text/plain": [
       "tensor([4, 9, 8])"
      ]
     },
     "execution_count": 230,
     "metadata": {},
     "output_type": "execute_result"
    }
   ],
   "source": [
    "tensor2 = torch.randint(low=0,high=10,size=(3,))\n",
    "tensor2"
   ]
  },
  {
   "cell_type": "code",
   "execution_count": 231,
   "id": "d7b0bf5d-2dc6-423b-b883-05956dc7903b",
   "metadata": {},
   "outputs": [
    {
     "data": {
      "text/plain": [
       "tensor([ 5, 11, 11])"
      ]
     },
     "execution_count": 231,
     "metadata": {},
     "output_type": "execute_result"
    }
   ],
   "source": [
    "tensor + tensor2"
   ]
  },
  {
   "cell_type": "code",
   "execution_count": 232,
   "id": "bd9ab043-7bae-422a-9b20-a41c3f8f0691",
   "metadata": {},
   "outputs": [
    {
     "data": {
      "text/plain": [
       "tensor([-3, -7, -5])"
      ]
     },
     "execution_count": 232,
     "metadata": {},
     "output_type": "execute_result"
    }
   ],
   "source": [
    "tensor - tensor2"
   ]
  },
  {
   "cell_type": "code",
   "execution_count": 233,
   "id": "72b61929-9616-4958-b1c5-2515e38d5b7a",
   "metadata": {},
   "outputs": [
    {
     "data": {
      "text/plain": [
       "tensor([ 4, 18, 24])"
      ]
     },
     "execution_count": 233,
     "metadata": {},
     "output_type": "execute_result"
    }
   ],
   "source": [
    "tensor * tensor2"
   ]
  },
  {
   "cell_type": "code",
   "execution_count": 234,
   "id": "3896df60-3590-4771-a300-0b8d2d3cabbf",
   "metadata": {},
   "outputs": [
    {
     "data": {
      "text/plain": [
       "tensor(46)"
      ]
     },
     "execution_count": 234,
     "metadata": {},
     "output_type": "execute_result"
    }
   ],
   "source": [
    "tensor @ tensor2"
   ]
  },
  {
   "cell_type": "code",
   "execution_count": 235,
   "id": "32fcc758-5e63-4784-b21b-3014000ce78f",
   "metadata": {},
   "outputs": [
    {
     "data": {
      "text/plain": [
       "tensor(46)"
      ]
     },
     "execution_count": 235,
     "metadata": {},
     "output_type": "execute_result"
    }
   ],
   "source": [
    "torch.matmul(tensor,tensor2)"
   ]
  },
  {
   "cell_type": "code",
   "execution_count": 236,
   "id": "6c411344-6662-4150-a456-02dc46e2031e",
   "metadata": {},
   "outputs": [
    {
     "name": "stdout",
     "output_type": "stream",
     "text": [
      "CPU times: user 1.19 ms, sys: 16 μs, total: 1.2 ms\n",
      "Wall time: 1.3 ms\n"
     ]
    },
    {
     "data": {
      "text/plain": [
       "tensor([[1.3460],\n",
       "        [0.8970]])"
      ]
     },
     "execution_count": 236,
     "metadata": {},
     "output_type": "execute_result"
    }
   ],
   "source": [
    "%%time\n",
    "torch.matmul(torch.rand(2,4),torch.rand(4,1))"
   ]
  },
  {
   "cell_type": "code",
   "execution_count": 237,
   "id": "9871bfc2-8ac7-47ab-9331-66679f054543",
   "metadata": {},
   "outputs": [
    {
     "data": {
      "text/plain": [
       "tensor([[9, 8, 2],\n",
       "        [5, 7, 3]])"
      ]
     },
     "execution_count": 237,
     "metadata": {},
     "output_type": "execute_result"
    }
   ],
   "source": [
    "newRandTensor"
   ]
  },
  {
   "cell_type": "code",
   "execution_count": 238,
   "id": "6fc5f774-7a76-46b4-becf-027e78922d48",
   "metadata": {},
   "outputs": [
    {
     "data": {
      "text/plain": [
       "tensor([[9, 5],\n",
       "        [8, 7],\n",
       "        [2, 3]])"
      ]
     },
     "execution_count": 238,
     "metadata": {},
     "output_type": "execute_result"
    }
   ],
   "source": [
    "newRandTensor.T"
   ]
  },
  {
   "cell_type": "code",
   "execution_count": 239,
   "id": "3c06ac19-f255-4591-a096-bd99e7d05799",
   "metadata": {},
   "outputs": [
    {
     "data": {
      "text/plain": [
       "tensor([20, 30, 40, 50, 60, 70, 80, 90])"
      ]
     },
     "execution_count": 239,
     "metadata": {},
     "output_type": "execute_result"
    }
   ],
   "source": [
    "x = torch.arange(20,100,10)\n",
    "x"
   ]
  },
  {
   "cell_type": "code",
   "execution_count": 240,
   "id": "a8f23688-2049-4a04-a6ab-0eef6b6dc197",
   "metadata": {},
   "outputs": [
    {
     "data": {
      "text/plain": [
       "tensor(20)"
      ]
     },
     "execution_count": 240,
     "metadata": {},
     "output_type": "execute_result"
    }
   ],
   "source": [
    "torch.min(x)"
   ]
  },
  {
   "cell_type": "code",
   "execution_count": 241,
   "id": "9539a4ef-8e05-452e-bd6f-e36c555c8fbd",
   "metadata": {},
   "outputs": [
    {
     "data": {
      "text/plain": [
       "tensor(90)"
      ]
     },
     "execution_count": 241,
     "metadata": {},
     "output_type": "execute_result"
    }
   ],
   "source": [
    "torch.max(x)"
   ]
  },
  {
   "cell_type": "code",
   "execution_count": 242,
   "id": "5c884cb0-9aef-471b-a113-edb0b36eece3",
   "metadata": {},
   "outputs": [
    {
     "data": {
      "text/plain": [
       "(tensor(55.), tensor(55.))"
      ]
     },
     "execution_count": 242,
     "metadata": {},
     "output_type": "execute_result"
    }
   ],
   "source": [
    "torch.mean(x.type(torch.float32)),x.type(torch.float32).mean()"
   ]
  },
  {
   "cell_type": "code",
   "execution_count": 243,
   "id": "10ea0e50-10c8-4c6c-b6d6-0c2d2bca388e",
   "metadata": {},
   "outputs": [
    {
     "data": {
      "text/plain": [
       "tensor(440)"
      ]
     },
     "execution_count": 243,
     "metadata": {},
     "output_type": "execute_result"
    }
   ],
   "source": [
    "x.sum()"
   ]
  },
  {
   "cell_type": "code",
   "execution_count": 244,
   "id": "094ec898-20f2-48ae-8c28-07049d72e3b0",
   "metadata": {},
   "outputs": [
    {
     "data": {
      "text/plain": [
       "tensor(0)"
      ]
     },
     "execution_count": 244,
     "metadata": {},
     "output_type": "execute_result"
    }
   ],
   "source": [
    "x.argmin()"
   ]
  },
  {
   "cell_type": "code",
   "execution_count": 245,
   "id": "4c9eb590-c461-49b5-af69-b3a150cbd2fc",
   "metadata": {},
   "outputs": [
    {
     "name": "stdout",
     "output_type": "stream",
     "text": [
      "the tensor x has a minimum of 20 at position: 0, out of 7\n"
     ]
    }
   ],
   "source": [
    "print(f\"the tensor x has a minimum of {x.min()} at position: {x.argmin()}, out of {x.size(0)-1}\")"
   ]
  },
  {
   "cell_type": "code",
   "execution_count": 246,
   "id": "ce565286-c6fa-4113-a3b4-627f0682d95b",
   "metadata": {},
   "outputs": [
    {
     "name": "stdout",
     "output_type": "stream",
     "text": [
      "the tensor x has a max of 90 at position: 7\n"
     ]
    }
   ],
   "source": [
    "print(f\"the tensor x has a max of {x.max()} at position: {x.argmax()}\")"
   ]
  },
  {
   "cell_type": "markdown",
   "id": "33a332f7-eaca-4a9f-8cee-71f495885fb7",
   "metadata": {},
   "source": [
    "## Reshaping, Stacking, Viewing , Squeezing and unsqueezing"
   ]
  },
  {
   "cell_type": "code",
   "execution_count": 275,
   "id": "b0072256-63cc-4692-b18a-1e56e2ae0ff1",
   "metadata": {},
   "outputs": [
    {
     "data": {
      "text/plain": [
       "2"
      ]
     },
     "execution_count": 275,
     "metadata": {},
     "output_type": "execute_result"
    }
   ],
   "source": [
    "testRandTensor = torch.rand(1,10)\n",
    "testRandTensor.ndim"
   ]
  },
  {
   "cell_type": "code",
   "execution_count": 251,
   "id": "c340aef1-bb0a-4026-824b-542dd66b7f77",
   "metadata": {},
   "outputs": [
    {
     "data": {
      "text/plain": [
       "tensor([[0.1303, 0.3749, 0.1158, 0.4489, 0.2560],\n",
       "        [0.2194, 0.9012, 0.1263, 0.6678, 0.1511]])"
      ]
     },
     "execution_count": 251,
     "metadata": {},
     "output_type": "execute_result"
    }
   ],
   "source": [
    "reshapedTensor = testRandTensor.reshape(2,5)\n",
    "reshapedTensor"
   ]
  },
  {
   "cell_type": "code",
   "execution_count": 252,
   "id": "8d875193-b8b6-4014-aa66-45a523988518",
   "metadata": {},
   "outputs": [
    {
     "data": {
      "text/plain": [
       "tensor([[0.1303, 0.3749],\n",
       "        [0.1158, 0.4489],\n",
       "        [0.2560, 0.2194],\n",
       "        [0.9012, 0.1263],\n",
       "        [0.6678, 0.1511]])"
      ]
     },
     "execution_count": 252,
     "metadata": {},
     "output_type": "execute_result"
    }
   ],
   "source": [
    "reshapedTensor = testRandTensor.reshape(5,2)\n",
    "reshapedTensor"
   ]
  },
  {
   "cell_type": "markdown",
   "id": "361f7760-54cd-4e61-82b3-564f4220b65d",
   "metadata": {},
   "source": [
    "For reshaping ,  the product of dims must be same thats it"
   ]
  },
  {
   "cell_type": "code",
   "execution_count": 269,
   "id": "f367b095-64bd-4230-9089-66af1ced9825",
   "metadata": {},
   "outputs": [
    {
     "data": {
      "text/plain": [
       "tensor([[5.0000, 5.0000, 5.0000, 5.0000, 5.0000, 0.2194, 0.9012, 0.1263, 0.6678,\n",
       "         0.1511]])"
      ]
     },
     "execution_count": 269,
     "metadata": {},
     "output_type": "execute_result"
    }
   ],
   "source": [
    "memSharingTensor=testRandTensor.view(1,10)\n",
    "memSharingTensor"
   ]
  },
  {
   "cell_type": "code",
   "execution_count": 270,
   "id": "a3f191a9-6b05-42e3-a777-2bc40f92eb27",
   "metadata": {},
   "outputs": [],
   "source": [
    "memSharingTensor[0] =5"
   ]
  },
  {
   "cell_type": "code",
   "execution_count": 271,
   "id": "cff1bbbd-f691-40f7-a88e-ac18712df66c",
   "metadata": {},
   "outputs": [
    {
     "data": {
      "text/plain": [
       "tensor([[5., 5., 5., 5., 5., 5., 5., 5., 5., 5.]])"
      ]
     },
     "execution_count": 271,
     "metadata": {},
     "output_type": "execute_result"
    }
   ],
   "source": [
    "memSharingTensor,testRandTensor\n",
    "memSharingTensor.reshape(1,10)"
   ]
  },
  {
   "cell_type": "markdown",
   "id": "1ef8a115-9d8a-4700-b41b-a94de954d55c",
   "metadata": {},
   "source": [
    "### stack"
   ]
  },
  {
   "cell_type": "code",
   "execution_count": 273,
   "id": "95ae67d6-51eb-458e-8907-bdd9af5f8141",
   "metadata": {},
   "outputs": [
    {
     "data": {
      "text/plain": [
       "tensor([[[5., 5., 5., 5., 5., 5., 5., 5., 5., 5.]],\n",
       "\n",
       "        [[5., 5., 5., 5., 5., 5., 5., 5., 5., 5.]]])"
      ]
     },
     "execution_count": 273,
     "metadata": {},
     "output_type": "execute_result"
    }
   ],
   "source": [
    "stackedTensor = torch.stack((testRandTensor,memSharingTensor))\n",
    "stackedTensor"
   ]
  },
  {
   "cell_type": "code",
   "execution_count": 274,
   "id": "e891d054-6bf2-4b10-a22a-4ea0738ab8b0",
   "metadata": {},
   "outputs": [
    {
     "data": {
      "text/plain": [
       "3"
      ]
     },
     "execution_count": 274,
     "metadata": {},
     "output_type": "execute_result"
    }
   ],
   "source": [
    "stackedTensor.ndim"
   ]
  },
  {
   "cell_type": "markdown",
   "id": "9ef6069c-bd26-4c30-ace0-5b2e24f385a4",
   "metadata": {
    "jp-MarkdownHeadingCollapsed": true
   },
   "source": [
    "# Reproducubility"
   ]
  },
  {
   "cell_type": "markdown",
   "id": "c55455ec-21f2-4720-959b-9f9232b52a8e",
   "metadata": {},
   "source": [
    "To reduce the randomness in NNs and pytorch , there is a concept of a `random seed`\n",
    "\n",
    "`torch.rand` is not completely random , it is pseudo random, and the `seed` gives that randomness a flavor!"
   ]
  },
  {
   "cell_type": "code",
   "execution_count": 278,
   "id": "85c7acb8-9044-4107-a15b-b3ca1aaf60fd",
   "metadata": {},
   "outputs": [
    {
     "name": "stdout",
     "output_type": "stream",
     "text": [
      "tensor([[False, False, False, False],\n",
      "        [False, False, False, False],\n",
      "        [False, False, False, False]])\n"
     ]
    }
   ],
   "source": [
    "randTensA = torch.rand(3,4)\n",
    "randTensB = torch.rand(3,4)\n",
    "print(randTensA==randTensB)"
   ]
  },
  {
   "cell_type": "code",
   "execution_count": 282,
   "id": "6ef34e62-0d8c-4993-820f-1dbdc68199b3",
   "metadata": {},
   "outputs": [
    {
     "name": "stdout",
     "output_type": "stream",
     "text": [
      "tensor([[True, True, True, True],\n",
      "        [True, True, True, True],\n",
      "        [True, True, True, True]])\n"
     ]
    },
    {
     "data": {
      "text/plain": [
       "tensor([[0.8823, 0.9150, 0.3829, 0.9593],\n",
       "        [0.3904, 0.6009, 0.2566, 0.7936],\n",
       "        [0.9408, 0.1332, 0.9346, 0.5936]])"
      ]
     },
     "execution_count": 282,
     "metadata": {},
     "output_type": "execute_result"
    }
   ],
   "source": [
    "randomSeed = 42\n",
    "torch.manual_seed(randomSeed)\n",
    "randTensA = torch.rand(3,4)\n",
    "torch.manual_seed(randomSeed)\n",
    "randTensB = torch.rand(3,4)\n",
    "print(randTensA==randTensB)\n",
    "randTensB"
   ]
  },
  {
   "cell_type": "code",
   "execution_count": 283,
   "id": "3860a0c2-dcca-45ef-aa8f-6c49a650575f",
   "metadata": {},
   "outputs": [
    {
     "data": {
      "text/plain": [
       "True"
      ]
     },
     "execution_count": 283,
     "metadata": {},
     "output_type": "execute_result"
    }
   ],
   "source": [
    "torch.cuda.is_available()"
   ]
  },
  {
   "cell_type": "code",
   "execution_count": 284,
   "id": "6a922f60-1c3d-4999-b34a-ce271a863b2a",
   "metadata": {},
   "outputs": [],
   "source": [
    "device = \"cuda\" if torch.cuda.is_available() else \"cpu\""
   ]
  },
  {
   "cell_type": "code",
   "execution_count": 285,
   "id": "37290525-b4c1-4271-a7a4-a8aba43cd250",
   "metadata": {},
   "outputs": [
    {
     "data": {
      "text/plain": [
       "'cuda'"
      ]
     },
     "execution_count": 285,
     "metadata": {},
     "output_type": "execute_result"
    }
   ],
   "source": [
    "device"
   ]
  },
  {
   "cell_type": "markdown",
   "id": "9a93d4b0-795d-4393-91b4-6be7d217c534",
   "metadata": {},
   "source": [
    "# An example program to get used to the pytorch workflow"
   ]
  },
  {
   "cell_type": "code",
   "execution_count": 304,
   "id": "db7436c6-eaa1-47a9-9a19-19ff0f6fd053",
   "metadata": {},
   "outputs": [
    {
     "data": {
      "image/png": "[encoded data removed]",
      "text/plain": [
       "<Figure size 640x480 with 1 Axes>"
      ]
     },
     "metadata": {},
     "output_type": "display_data"
    }
   ],
   "source": [
    "weight = 0.7\n",
    "bias=0.3\n",
    "start=0\n",
    "end=1\n",
    "step=0.02\n",
    "noise = torch.randn(xVals.size())*0.02\n",
    "xVals = torch.arange(start,end,step)\n",
    "yVals = weight*xVals + bias + noise\n",
    "plt.scatter(xVals,yVals)\n",
    "plt.grid()"
   ]
  },
  {
   "cell_type": "code",
   "execution_count": null,
   "id": "b80c5345-d8d8-4140-90d0-ff1d8a7015a3",
   "metadata": {},
   "outputs": [],
   "source": []
  },
  {
   "cell_type": "code",
   "execution_count": null,
   "id": "08de6173-b835-4f3c-b18e-3350a0b7397b",
   "metadata": {},
   "outputs": [],
   "source": []
  }
 ],
 "metadata": {
  "kernelspec": {
   "display_name": "Python 3 (ipykernel)",
   "language": "python",
   "name": "python3"
  },
  "language_info": {
   "codemirror_mode": {
    "name": "ipython",
    "version": 3
   },
   "file_extension": ".py",
   "mimetype": "text/x-python",
   "name": "python",
   "nbconvert_exporter": "python",
   "pygments_lexer": "ipython3",
   "version": "3.12.7"
  }
 },
 "nbformat": 4,
 "nbformat_minor": 5
}
